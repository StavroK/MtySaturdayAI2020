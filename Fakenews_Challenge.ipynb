{
  "nbformat": 4,
  "nbformat_minor": 0,
  "metadata": {
    "colab": {
      "name": "Fakenews Challenge.ipynb",
      "provenance": [],
      "collapsed_sections": [],
      "toc_visible": true,
      "authorship_tag": "ABX9TyP1XFmSpkQPbthLF0/gcP49",
      "include_colab_link": true
    },
    "kernelspec": {
      "name": "python3",
      "display_name": "Python 3"
    }
  },
  "cells": [
    {
      "cell_type": "markdown",
      "metadata": {
        "id": "view-in-github",
        "colab_type": "text"
      },
      "source": [
        "<a href=\"https://colab.research.google.com/github/StavroK/MtySaturdayAI2020/blob/master/Fakenews_Challenge.ipynb\" target=\"_parent\"><img src=\"https://colab.research.google.com/assets/colab-badge.svg\" alt=\"Open In Colab\"/></a>"
      ]
    },
    {
      "cell_type": "code",
      "metadata": {
        "id": "A1LpCYc9SYN1",
        "colab_type": "code",
        "outputId": "b543ed01-e2de-4581-b70a-0a4e0d9d0976",
        "colab": {
          "base_uri": "https://localhost:8080/",
          "height": 33
        }
      },
      "source": [
        "!ls"
      ],
      "execution_count": 113,
      "outputs": [
        {
          "output_type": "stream",
          "text": [
            "shell-init: error retrieving current directory: getcwd: cannot access parent directories: No such file or directory\n"
          ],
          "name": "stdout"
        }
      ]
    },
    {
      "cell_type": "markdown",
      "metadata": {
        "id": "ONki9poaWVyW",
        "colab_type": "text"
      },
      "source": [
        "# New Section"
      ]
    },
    {
      "cell_type": "markdown",
      "metadata": {
        "id": "qnuEYsm3WWcR",
        "colab_type": "text"
      },
      "source": [
        "# New Section"
      ]
    },
    {
      "cell_type": "code",
      "metadata": {
        "id": "wc_8MwnJTDoC",
        "colab_type": "code",
        "colab": {}
      },
      "source": [
        "import shutil\n",
        "shutil.rmtree('/content/PNC1')"
      ],
      "execution_count": 0,
      "outputs": []
    },
    {
      "cell_type": "markdown",
      "metadata": {
        "id": "mevw_bE_Wl8m",
        "colab_type": "text"
      },
      "source": [
        "**Data Set Analysis**\n",
        "\n",
        "In this step we will check for a balanced data so we can train the machine learning models without oversampling or undersampling classes. If we see some bias towards one class we need to apply techniques to manage this issue with our data set.\n",
        "\n",
        "First step is to check if we have all Python packages we need be using to visualize the characteristics of the dataset to check for class balance, and install those missing if any. We will need to join files containing labeling of examples to content of articles for our purpose.\n",
        "\n",
        "\n",
        "We want to check for: 1. Number of examples in each class, 2. Total Percentage of examples in each class, 3. Distribution of the lenght of each example as we will use its word content to train for classification.\n"
      ]
    },
    {
      "cell_type": "code",
      "metadata": {
        "id": "LAENgkVySxye",
        "colab_type": "code",
        "colab": {}
      },
      "source": [
        "# This command will show you the \"Location\" of your package\n",
        "# I am using numpy as is the most common package \n",
        "! pip show numpy"
      ],
      "execution_count": 0,
      "outputs": []
    },
    {
      "cell_type": "code",
      "metadata": {
        "id": "17tVWgflbQVv",
        "colab_type": "code",
        "colab": {}
      },
      "source": [
        "# use this other command to list all files under \"Location\"\n",
        "# we are checking for the following packages\n",
        "# altair - enables to build histogram for class representation in examples\n",
        "# matplotlib - extension of NumPy enables you to embed plots into applications\n",
        "# pandas - used to clean, transform, manipulate and analize data\n",
        "# pickle - used to convert a python object into a character stream\n",
        "# pip - used to manage installation and updates of python packages\n",
        "# seaborn - based on matplotlib is used to vizualize example lenght by category \n",
        "# warnings - used to hide warinings coming from seaborn package\n",
        "! ls /usr/local/lib/python3.6/dist-packages"
      ],
      "execution_count": 0,
      "outputs": []
    },
    {
      "cell_type": "code",
      "metadata": {
        "id": "sojJxGrscdYM",
        "colab_type": "code",
        "colab": {}
      },
      "source": [
        "# If you are missign a package use this command to install\n",
        "# remember to be in your distribution packages folder used by colab \n",
        "# before you run the instalation command\n",
        "\n",
        "%cd /usr/local/lib/python3.6/dist-packages\n",
        "\n",
        "# use these commands to install and check installation\n",
        "# ! pip install nameofpackage\n",
        "# ! pip show nameofpackage\n",
        "\n",
        "! pip install warn\n",
        "! pip show warn"
      ],
      "execution_count": 0,
      "outputs": []
    },
    {
      "cell_type": "markdown",
      "metadata": {
        "id": "dAGDPipevMsl",
        "colab_type": "text"
      },
      "source": [
        "Now that we have secured environment requirements for python packages that will be declared in the code, next we will import them into the program"
      ]
    },
    {
      "cell_type": "code",
      "metadata": {
        "id": "j1ZntwLOvMfk",
        "colab_type": "code",
        "colab": {}
      },
      "source": [
        "import altair as alt\n",
        "import matplotlib.pyplot as plt\n",
        "import pandas as pd\n",
        "import pickle as pkl\n",
        "import seaborn as sns\n",
        "import warnings"
      ],
      "execution_count": 0,
      "outputs": []
    },
    {
      "cell_type": "markdown",
      "metadata": {
        "id": "V6bR0056rHOL",
        "colab_type": "text"
      },
      "source": [
        "We want to check for: 1. Number of examples in each class, 2. Total Percentage of examples in each class, 3. Distribution of the lenght of each example as we will use its word content to train for classification.\n",
        "\n",
        "Data is already included in /content/FakeNews folder. Data is already separated by example content and labeled files, and also in train, test and demo files to keep process clean.\n"
      ]
    },
    {
      "cell_type": "code",
      "metadata": {
        "id": "1-k8pLG1rUtU",
        "colab_type": "code",
        "colab": {}
      },
      "source": [
        "%cd /content/FakeNews/\n",
        "\n",
        "file_train_instances = \"train_stances.csv\"\n",
        "file_train_bodies = \"train_bodies.csv\"\n",
        "file_test_instances = \"test_stances_unlabeled.csv\"\n",
        "file_test_bodies = \"test_bodies.csv\"\n",
        "file_predictions = 'predictions_test.csv'\n"
      ],
      "execution_count": 0,
      "outputs": []
    },
    {
      "cell_type": "code",
      "metadata": {
        "id": "Odj_Gpstr5Wj",
        "colab_type": "code",
        "colab": {}
      },
      "source": [
        "import pandas as pd\n",
        "examples_df=[]\n",
        "trainbodies_df = []\n",
        "trainstances_df = []\n",
        "testbodies_df = []\n",
        "teststances_df = []\n",
        "comptestbodies_df = []\n",
        "comptestbodies_df = []\n",
        "\n",
        "trainbodies_df = pd.read_csv('/content/FakeNews/train_bodies.csv',\n",
        "                             keep_default_na=False, na_values=[\"\"])\n",
        "trainstances_df = pd.read_csv('/content/FakeNews/train_stances.csv',\n",
        "                             keep_default_na=False, na_values=[\"\"])\n",
        "testbodies_df = pd.read_csv('/content/FakeNews/test_bodies.csv',\n",
        "                             keep_default_na=False, na_values=[\"\"])\n",
        "teststances_df = pd.read_csv('/content/FakeNews/test_stances_unlabeled.csv',\n",
        "                             keep_default_na=False, na_values=[\"\"])\n",
        "comptestbodies_df = pd.read_csv('/content/FakeNews/competition_test_bodies.csv',\n",
        "                             keep_default_na=False, na_values=[\"\"])\n",
        "compteststances_df = pd.read_csv('/content/FakeNews/competition_test_stances.csv',\n",
        "                             keep_default_na=False, na_values=[\"\"])"
      ],
      "execution_count": 0,
      "outputs": []
    },
    {
      "cell_type": "code",
      "metadata": {
        "id": "CFwdB7NKPTtr",
        "colab_type": "code",
        "outputId": "c767edd4-3a9c-4236-f5d3-e201e13cd3d3",
        "colab": {
          "base_uri": "https://localhost:8080/",
          "height": 50
        }
      },
      "source": [
        "print(\"Total stances: \" + str(len(trainbodies_df)))\n",
        "print(\"Total bodies: \" + str(len(trainstances_df)))"
      ],
      "execution_count": 0,
      "outputs": [
        {
          "output_type": "stream",
          "text": [
            "Total stances: 1683\n",
            "Total bodies: 49972\n"
          ],
          "name": "stdout"
        }
      ]
    },
    {
      "cell_type": "code",
      "metadata": {
        "id": "iHQCTC52r5fO",
        "colab_type": "code",
        "outputId": "46383462-97a8-4b71-c945-e7681bb699fb",
        "colab": {
          "base_uri": "https://localhost:8080/",
          "height": 33
        }
      },
      "source": [
        "trainbodies_df.columns\n"
      ],
      "execution_count": 0,
      "outputs": [
        {
          "output_type": "execute_result",
          "data": {
            "text/plain": [
              "Index(['Body ID', 'articleBody'], dtype='object')"
            ]
          },
          "metadata": {
            "tags": []
          },
          "execution_count": 93
        }
      ]
    },
    {
      "cell_type": "code",
      "metadata": {
        "id": "rxMwwoTRBN9n",
        "colab_type": "code",
        "outputId": "1a456796-2df9-4ca1-a797-3766ebd98cab",
        "colab": {
          "base_uri": "https://localhost:8080/",
          "height": 197
        }
      },
      "source": [
        "trainbodies_df.sort_values(by='Body ID')\n",
        "trainbodies_df.head()"
      ],
      "execution_count": 0,
      "outputs": [
        {
          "output_type": "execute_result",
          "data": {
            "text/html": [
              "<div>\n",
              "<style scoped>\n",
              "    .dataframe tbody tr th:only-of-type {\n",
              "        vertical-align: middle;\n",
              "    }\n",
              "\n",
              "    .dataframe tbody tr th {\n",
              "        vertical-align: top;\n",
              "    }\n",
              "\n",
              "    .dataframe thead th {\n",
              "        text-align: right;\n",
              "    }\n",
              "</style>\n",
              "<table border=\"1\" class=\"dataframe\">\n",
              "  <thead>\n",
              "    <tr style=\"text-align: right;\">\n",
              "      <th></th>\n",
              "      <th>Body ID</th>\n",
              "      <th>articleBody</th>\n",
              "    </tr>\n",
              "  </thead>\n",
              "  <tbody>\n",
              "    <tr>\n",
              "      <th>0</th>\n",
              "      <td>0</td>\n",
              "      <td>A small meteorite crashed into a wooded area i...</td>\n",
              "    </tr>\n",
              "    <tr>\n",
              "      <th>1</th>\n",
              "      <td>4</td>\n",
              "      <td>Last week we hinted at what was to come as Ebo...</td>\n",
              "    </tr>\n",
              "    <tr>\n",
              "      <th>2</th>\n",
              "      <td>5</td>\n",
              "      <td>(NEWSER) – Wonder how long a Quarter Pounder w...</td>\n",
              "    </tr>\n",
              "    <tr>\n",
              "      <th>3</th>\n",
              "      <td>6</td>\n",
              "      <td>Posting photos of a gun-toting child online, I...</td>\n",
              "    </tr>\n",
              "    <tr>\n",
              "      <th>4</th>\n",
              "      <td>7</td>\n",
              "      <td>At least 25 suspected Boko Haram insurgents we...</td>\n",
              "    </tr>\n",
              "  </tbody>\n",
              "</table>\n",
              "</div>"
            ],
            "text/plain": [
              "   Body ID                                        articleBody\n",
              "0        0  A small meteorite crashed into a wooded area i...\n",
              "1        4  Last week we hinted at what was to come as Ebo...\n",
              "2        5  (NEWSER) – Wonder how long a Quarter Pounder w...\n",
              "3        6  Posting photos of a gun-toting child online, I...\n",
              "4        7  At least 25 suspected Boko Haram insurgents we..."
            ]
          },
          "metadata": {
            "tags": []
          },
          "execution_count": 94
        }
      ]
    },
    {
      "cell_type": "code",
      "metadata": {
        "id": "E3slEZyq2ANY",
        "colab_type": "code",
        "outputId": "69256bc6-4578-41c7-c242-89b77189764f",
        "colab": {
          "base_uri": "https://localhost:8080/",
          "height": 33
        }
      },
      "source": [
        "trainstances_df.columns"
      ],
      "execution_count": 0,
      "outputs": [
        {
          "output_type": "execute_result",
          "data": {
            "text/plain": [
              "Index(['Headline', 'Body ID', 'Stance'], dtype='object')"
            ]
          },
          "metadata": {
            "tags": []
          },
          "execution_count": 95
        }
      ]
    },
    {
      "cell_type": "code",
      "metadata": {
        "id": "3cYVWsVCBKdW",
        "colab_type": "code",
        "outputId": "f0042422-6dad-493c-ee5d-3ea2ecc23786",
        "colab": {
          "base_uri": "https://localhost:8080/",
          "height": 197
        }
      },
      "source": [
        "trainstances_df.sort_values(by='Body ID')\n",
        "trainstances_df.head()"
      ],
      "execution_count": 0,
      "outputs": [
        {
          "output_type": "execute_result",
          "data": {
            "text/html": [
              "<div>\n",
              "<style scoped>\n",
              "    .dataframe tbody tr th:only-of-type {\n",
              "        vertical-align: middle;\n",
              "    }\n",
              "\n",
              "    .dataframe tbody tr th {\n",
              "        vertical-align: top;\n",
              "    }\n",
              "\n",
              "    .dataframe thead th {\n",
              "        text-align: right;\n",
              "    }\n",
              "</style>\n",
              "<table border=\"1\" class=\"dataframe\">\n",
              "  <thead>\n",
              "    <tr style=\"text-align: right;\">\n",
              "      <th></th>\n",
              "      <th>Headline</th>\n",
              "      <th>Body ID</th>\n",
              "      <th>Stance</th>\n",
              "    </tr>\n",
              "  </thead>\n",
              "  <tbody>\n",
              "    <tr>\n",
              "      <th>0</th>\n",
              "      <td>Police find mass graves with at least '15 bodi...</td>\n",
              "      <td>712</td>\n",
              "      <td>unrelated</td>\n",
              "    </tr>\n",
              "    <tr>\n",
              "      <th>1</th>\n",
              "      <td>Hundreds of Palestinians flee floods in Gaza a...</td>\n",
              "      <td>158</td>\n",
              "      <td>agree</td>\n",
              "    </tr>\n",
              "    <tr>\n",
              "      <th>2</th>\n",
              "      <td>Christian Bale passes on role of Steve Jobs, a...</td>\n",
              "      <td>137</td>\n",
              "      <td>unrelated</td>\n",
              "    </tr>\n",
              "    <tr>\n",
              "      <th>3</th>\n",
              "      <td>HBO and Apple in Talks for $15/Month Apple TV ...</td>\n",
              "      <td>1034</td>\n",
              "      <td>unrelated</td>\n",
              "    </tr>\n",
              "    <tr>\n",
              "      <th>4</th>\n",
              "      <td>Spider burrowed through tourist's stomach and ...</td>\n",
              "      <td>1923</td>\n",
              "      <td>disagree</td>\n",
              "    </tr>\n",
              "  </tbody>\n",
              "</table>\n",
              "</div>"
            ],
            "text/plain": [
              "                                            Headline  Body ID     Stance\n",
              "0  Police find mass graves with at least '15 bodi...      712  unrelated\n",
              "1  Hundreds of Palestinians flee floods in Gaza a...      158      agree\n",
              "2  Christian Bale passes on role of Steve Jobs, a...      137  unrelated\n",
              "3  HBO and Apple in Talks for $15/Month Apple TV ...     1034  unrelated\n",
              "4  Spider burrowed through tourist's stomach and ...     1923   disagree"
            ]
          },
          "metadata": {
            "tags": []
          },
          "execution_count": 96
        }
      ]
    },
    {
      "cell_type": "code",
      "metadata": {
        "id": "PwbusOPt3Y8O",
        "colab_type": "code",
        "colab": {}
      },
      "source": [
        "train_df = pd.merge(trainbodies_df,trainstances_df, on=\"Body ID\")"
      ],
      "execution_count": 0,
      "outputs": []
    },
    {
      "cell_type": "code",
      "metadata": {
        "id": "re_qv_IQBd6H",
        "colab_type": "code",
        "outputId": "7dd2bae4-7232-4f97-a6d8-485a0a3d28b6",
        "colab": {
          "base_uri": "https://localhost:8080/",
          "height": 33
        }
      },
      "source": [
        "train_df.columns"
      ],
      "execution_count": 0,
      "outputs": [
        {
          "output_type": "execute_result",
          "data": {
            "text/plain": [
              "Index(['Body ID', 'articleBody', 'Headline', 'Stance'], dtype='object')"
            ]
          },
          "metadata": {
            "tags": []
          },
          "execution_count": 86
        }
      ]
    },
    {
      "cell_type": "code",
      "metadata": {
        "id": "tQH7gocfBkzg",
        "colab_type": "code",
        "outputId": "f09daf07-8ffb-47b9-ba71-1769f5039a44",
        "colab": {
          "base_uri": "https://localhost:8080/",
          "height": 197
        }
      },
      "source": [
        "train_df.head()"
      ],
      "execution_count": 0,
      "outputs": [
        {
          "output_type": "execute_result",
          "data": {
            "text/html": [
              "<div>\n",
              "<style scoped>\n",
              "    .dataframe tbody tr th:only-of-type {\n",
              "        vertical-align: middle;\n",
              "    }\n",
              "\n",
              "    .dataframe tbody tr th {\n",
              "        vertical-align: top;\n",
              "    }\n",
              "\n",
              "    .dataframe thead th {\n",
              "        text-align: right;\n",
              "    }\n",
              "</style>\n",
              "<table border=\"1\" class=\"dataframe\">\n",
              "  <thead>\n",
              "    <tr style=\"text-align: right;\">\n",
              "      <th></th>\n",
              "      <th>Body ID</th>\n",
              "      <th>articleBody</th>\n",
              "      <th>Headline</th>\n",
              "      <th>Stance</th>\n",
              "    </tr>\n",
              "  </thead>\n",
              "  <tbody>\n",
              "    <tr>\n",
              "      <th>0</th>\n",
              "      <td>0</td>\n",
              "      <td>A small meteorite crashed into a wooded area i...</td>\n",
              "      <td>Soldier shot, Parliament locked down after gun...</td>\n",
              "      <td>unrelated</td>\n",
              "    </tr>\n",
              "    <tr>\n",
              "      <th>1</th>\n",
              "      <td>0</td>\n",
              "      <td>A small meteorite crashed into a wooded area i...</td>\n",
              "      <td>Tourist dubbed ‘Spider Man’ after spider burro...</td>\n",
              "      <td>unrelated</td>\n",
              "    </tr>\n",
              "    <tr>\n",
              "      <th>2</th>\n",
              "      <td>0</td>\n",
              "      <td>A small meteorite crashed into a wooded area i...</td>\n",
              "      <td>Luke Somers 'killed in failed rescue attempt i...</td>\n",
              "      <td>unrelated</td>\n",
              "    </tr>\n",
              "    <tr>\n",
              "      <th>3</th>\n",
              "      <td>0</td>\n",
              "      <td>A small meteorite crashed into a wooded area i...</td>\n",
              "      <td>BREAKING: Soldier shot at War Memorial in Ottawa</td>\n",
              "      <td>unrelated</td>\n",
              "    </tr>\n",
              "    <tr>\n",
              "      <th>4</th>\n",
              "      <td>0</td>\n",
              "      <td>A small meteorite crashed into a wooded area i...</td>\n",
              "      <td>Giant 8ft 9in catfish weighing 19 stone caught...</td>\n",
              "      <td>unrelated</td>\n",
              "    </tr>\n",
              "  </tbody>\n",
              "</table>\n",
              "</div>"
            ],
            "text/plain": [
              "   Body ID  ...     Stance\n",
              "0        0  ...  unrelated\n",
              "1        0  ...  unrelated\n",
              "2        0  ...  unrelated\n",
              "3        0  ...  unrelated\n",
              "4        0  ...  unrelated\n",
              "\n",
              "[5 rows x 4 columns]"
            ]
          },
          "metadata": {
            "tags": []
          },
          "execution_count": 87
        }
      ]
    },
    {
      "cell_type": "code",
      "metadata": {
        "id": "flG1wmhGBmaT",
        "colab_type": "code",
        "outputId": "7239504e-748e-4572-ecd2-496918d5b7a9",
        "colab": {
          "base_uri": "https://localhost:8080/",
          "height": 197
        }
      },
      "source": [
        "train_df.tail()"
      ],
      "execution_count": 0,
      "outputs": [
        {
          "output_type": "execute_result",
          "data": {
            "text/html": [
              "<div>\n",
              "<style scoped>\n",
              "    .dataframe tbody tr th:only-of-type {\n",
              "        vertical-align: middle;\n",
              "    }\n",
              "\n",
              "    .dataframe tbody tr th {\n",
              "        vertical-align: top;\n",
              "    }\n",
              "\n",
              "    .dataframe thead th {\n",
              "        text-align: right;\n",
              "    }\n",
              "</style>\n",
              "<table border=\"1\" class=\"dataframe\">\n",
              "  <thead>\n",
              "    <tr style=\"text-align: right;\">\n",
              "      <th></th>\n",
              "      <th>index_x</th>\n",
              "      <th>Body ID</th>\n",
              "      <th>articleBody</th>\n",
              "      <th>index_y</th>\n",
              "      <th>Headline</th>\n",
              "      <th>Stance</th>\n",
              "    </tr>\n",
              "  </thead>\n",
              "  <tbody>\n",
              "    <tr>\n",
              "      <th>49967</th>\n",
              "      <td>1682</td>\n",
              "      <td>2532</td>\n",
              "      <td>ANN ARBOR, Mich. – A pizza delivery man in Mic...</td>\n",
              "      <td>27064</td>\n",
              "      <td>Pizza delivery man gets tipped more than $2,00...</td>\n",
              "      <td>agree</td>\n",
              "    </tr>\n",
              "    <tr>\n",
              "      <th>49968</th>\n",
              "      <td>1682</td>\n",
              "      <td>2532</td>\n",
              "      <td>ANN ARBOR, Mich. – A pizza delivery man in Mic...</td>\n",
              "      <td>34899</td>\n",
              "      <td>Pizza delivery man gets $2,000 tip</td>\n",
              "      <td>agree</td>\n",
              "    </tr>\n",
              "    <tr>\n",
              "      <th>49969</th>\n",
              "      <td>1682</td>\n",
              "      <td>2532</td>\n",
              "      <td>ANN ARBOR, Mich. – A pizza delivery man in Mic...</td>\n",
              "      <td>41950</td>\n",
              "      <td>Luckiest Pizza Delivery Guy Ever Gets $2,000 Tip</td>\n",
              "      <td>agree</td>\n",
              "    </tr>\n",
              "    <tr>\n",
              "      <th>49970</th>\n",
              "      <td>1682</td>\n",
              "      <td>2532</td>\n",
              "      <td>ANN ARBOR, Mich. – A pizza delivery man in Mic...</td>\n",
              "      <td>46075</td>\n",
              "      <td>Ann Arbor pizza delivery driver surprised with...</td>\n",
              "      <td>agree</td>\n",
              "    </tr>\n",
              "    <tr>\n",
              "      <th>49971</th>\n",
              "      <td>1682</td>\n",
              "      <td>2532</td>\n",
              "      <td>ANN ARBOR, Mich. – A pizza delivery man in Mic...</td>\n",
              "      <td>46450</td>\n",
              "      <td>Ann Arbor pizza delivery driver surprised with...</td>\n",
              "      <td>agree</td>\n",
              "    </tr>\n",
              "  </tbody>\n",
              "</table>\n",
              "</div>"
            ],
            "text/plain": [
              "       index_x  ...  Stance\n",
              "49967     1682  ...   agree\n",
              "49968     1682  ...   agree\n",
              "49969     1682  ...   agree\n",
              "49970     1682  ...   agree\n",
              "49971     1682  ...   agree\n",
              "\n",
              "[5 rows x 6 columns]"
            ]
          },
          "metadata": {
            "tags": []
          },
          "execution_count": 67
        }
      ]
    }
  ]
}
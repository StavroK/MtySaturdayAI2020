{
  "nbformat": 4,
  "nbformat_minor": 0,
  "metadata": {
    "colab": {
      "name": "Fakenews Challenge.ipynb",
      "provenance": [],
      "collapsed_sections": [],
      "toc_visible": true,
      "mount_file_id": "https://github.com/StavroK/MtySaturdayAI2020/blob/master/Fakenews_Project.ipynb",
      "authorship_tag": "ABX9TyOg9q2uS02cWrlwQS3tLmlG",
      "include_colab_link": true
    },
    "kernelspec": {
      "name": "python3",
      "display_name": "Python 3"
    }
  },
  "cells": [
    {
      "cell_type": "markdown",
      "metadata": {
        "id": "view-in-github",
        "colab_type": "text"
      },
      "source": [
        "<a href=\"https://colab.research.google.com/github/StavroK/MtySaturdayAI2020/blob/master/Fakenews_Project.ipynb\" target=\"_parent\"><img src=\"https://colab.research.google.com/assets/colab-badge.svg\" alt=\"Open In Colab\"/></a>"
      ]
    },
    {
      "cell_type": "code",
      "metadata": {
        "id": "dCsOY9I_mMhU",
        "colab_type": "code",
        "colab": {}
      },
      "source": [
        "#%cd /usr/local/lib/python3.6/dist-packages\n",
        "#! pip install git+https://github.com/altair-viz/altair.git\n",
        "#! pip install vega_datasets\n",
        "#! pip install altair \"vega<2\" notebook\n",
        "#! pip install jupyter pandas vega\n",
        "#! pip install --upgrade notebook  # need jupyter_client >= 4.2 for sys-prefix below\n",
        "#! jupyter nbextension install --sys-prefix --py vega\n",
        "#! pip install --upgrade altair vega"
      ],
      "execution_count": 0,
      "outputs": []
    },
    {
      "cell_type": "code",
      "metadata": {
        "id": "Qq1NdgsOsKuM",
        "colab_type": "code",
        "colab": {}
      },
      "source": [
        "#! pip show vega"
      ],
      "execution_count": 0,
      "outputs": []
    },
    {
      "cell_type": "code",
      "metadata": {
        "id": "17tVWgflbQVv",
        "colab_type": "code",
        "colab": {}
      },
      "source": [
        "# use this other command to list all files under \"Location\"\n",
        "# we are checking for the following packages\n",
        "# altair - enables to build histogram for class representation in examples\n",
        "# matplotlib - extension of NumPy enables you to embed plots into applications\n",
        "# pandas - used to clean, transform, manipulate and analize data\n",
        "# pickle - used to convert a python object into a character stream\n",
        "# pip - used to manage installation and updates of python packages\n",
        "# seaborn - based on matplotlib is used to vizualize example lenght by category \n",
        "# warnings - used to hide warinings coming from seaborn package\n",
        "#! ls /usr/local/lib/python3.6/dist-packages"
      ],
      "execution_count": 0,
      "outputs": []
    },
    {
      "cell_type": "code",
      "metadata": {
        "id": "sojJxGrscdYM",
        "colab_type": "code",
        "colab": {}
      },
      "source": [
        "# If you are missign a package use this command to install\n",
        "# remember to be in your distribution packages folder used by colab \n",
        "# before you run the instalation command\n",
        "\n",
        "#%cd /usr/local/lib/python3.6/dist-packages\n",
        "\n",
        "# use these commands to install and check installation\n",
        "# ! pip install nameofpackage\n",
        "# ! pip show nameofpackage\n",
        "\n",
        "#! pip install warn\n",
        "#! pip show warn"
      ],
      "execution_count": 0,
      "outputs": []
    },
    {
      "cell_type": "code",
      "metadata": {
        "id": "A1LpCYc9SYN1",
        "colab_type": "code",
        "colab": {}
      },
      "source": [
        "#%cd /content/FakeNews/baseline/fnc-1"
      ],
      "execution_count": 0,
      "outputs": []
    },
    {
      "cell_type": "code",
      "metadata": {
        "id": "8SCTpY0xZNce",
        "colab_type": "code",
        "colab": {}
      },
      "source": [
        "##! git clone https://github.com/FakeNewsChallenge/fnc-1.git"
      ],
      "execution_count": 0,
      "outputs": []
    },
    {
      "cell_type": "code",
      "metadata": {
        "id": "wc_8MwnJTDoC",
        "colab_type": "code",
        "colab": {}
      },
      "source": [
        "##import shutil\n",
        "##shutil.rmtree('/content/PNC1')"
      ],
      "execution_count": 0,
      "outputs": []
    },
    {
      "cell_type": "code",
      "metadata": {
        "id": "IYKIn-aCu87F",
        "colab_type": "code",
        "colab": {}
      },
      "source": [
        "#%cd /usr/local/lib/python3.6/dist-packages\n",
        "#! pip install vega"
      ],
      "execution_count": 0,
      "outputs": []
    },
    {
      "cell_type": "markdown",
      "metadata": {
        "id": "mevw_bE_Wl8m",
        "colab_type": "text"
      },
      "source": [
        "**Data Set Analysis**\n",
        "\n",
        "In this step we will check for a balanced data so we can train the machine learning models without oversampling or undersampling classes. If we see some bias towards one class we need to apply techniques to manage this issue with our data set.\n",
        "\n",
        "First step is to check if we have all Python packages we need be using to visualize the characteristics of the dataset to check for class balance, and install those missing if any. We will need to join files containing labeling of examples to content of articles for our purpose.\n",
        "\n",
        "\n",
        "We want to check for: 1. Number of examples in each class, 2. Total Percentage of examples in each class, 3. Distribution of the lenght of each example as we will use its word content to train for classification.\n"
      ]
    },
    {
      "cell_type": "code",
      "metadata": {
        "id": "LAENgkVySxye",
        "colab_type": "code",
        "colab": {}
      },
      "source": [
        "# This command will show you the \"Location\" of your package\n",
        "# I am using numpy as is the most common package \n",
        "#! pip show numpy"
      ],
      "execution_count": 0,
      "outputs": []
    },
    {
      "cell_type": "markdown",
      "metadata": {
        "id": "dAGDPipevMsl",
        "colab_type": "text"
      },
      "source": [
        "Now that we have secured environment requirements for python packages that will be declared in the code, next we will import them into the program"
      ]
    },
    {
      "cell_type": "code",
      "metadata": {
        "id": "j1ZntwLOvMfk",
        "colab_type": "code",
        "outputId": "aa9910d7-8300-47f6-f735-f7584603cb8c",
        "colab": {
          "base_uri": "https://localhost:8080/",
          "height": 33
        }
      },
      "source": [
        "%cd /usr/local/lib/python3.6/dist-packages\n",
        "import altair as alt\n",
        "import matplotlib.pyplot as plt\n",
        "import pandas as pd\n",
        "import pickle as pkl\n",
        "import seaborn as sns\n",
        "import warnings"
      ],
      "execution_count": 190,
      "outputs": [
        {
          "output_type": "stream",
          "text": [
            "/usr/local/lib/python3.6/dist-packages\n"
          ],
          "name": "stdout"
        }
      ]
    },
    {
      "cell_type": "markdown",
      "metadata": {
        "id": "V6bR0056rHOL",
        "colab_type": "text"
      },
      "source": [
        "We want to check for: 1. Number of examples in each class, 2. Total Percentage of examples in each class, 3. Distribution of the lenght of each example as we will use its word content to train for classification.\n",
        "\n",
        "Data is already included in /content/FakeNews folder. Data is already separated by example content and labeled files, and also in train, test and demo files to keep process clean.\n"
      ]
    },
    {
      "cell_type": "code",
      "metadata": {
        "id": "1-k8pLG1rUtU",
        "colab_type": "code",
        "outputId": "e99c109b-f88f-4fcf-931e-fa0b27cafbb1",
        "colab": {
          "base_uri": "https://localhost:8080/",
          "height": 33
        }
      },
      "source": [
        "%cd /content/Fakenews"
      ],
      "execution_count": 191,
      "outputs": [
        {
          "output_type": "stream",
          "text": [
            "/content/Fakenews\n"
          ],
          "name": "stdout"
        }
      ]
    },
    {
      "cell_type": "code",
      "metadata": {
        "id": "hC5SepEYNOea",
        "colab_type": "code",
        "colab": {
          "base_uri": "https://localhost:8080/",
          "height": 33
        },
        "outputId": "7668abdb-3a52-46bb-dcab-236cefae31fc"
      },
      "source": [
        "! ls"
      ],
      "execution_count": 192,
      "outputs": [
        {
          "output_type": "stream",
          "text": [
            "News_dataset.pickle  train_bodies.csv  train_stances.random.csv\n"
          ],
          "name": "stdout"
        }
      ]
    },
    {
      "cell_type": "code",
      "metadata": {
        "id": "Odj_Gpstr5Wj",
        "colab_type": "code",
        "colab": {}
      },
      "source": [
        "import pandas as pd\n",
        "train_df=[]\n",
        "trainbodies_df = []\n",
        "trainstances_df = []\n",
        "testbodies_df = []\n",
        "teststances_df = []\n",
        "comptestbodies_df = []\n",
        "comptestbodies_df = []\n",
        "df_path = \"/content/Fakenews/\"\n",
        "df_file_train_bodies = \"train_bodies.csv\"\n",
        "df_file_train_stances = \"train_stances.random.csv\"\n",
        "trainbodies_df = pd.read_csv( df_path + df_file_train_bodies,\n",
        "                             keep_default_na=False, na_values=[\"\"])\n",
        "trainstances_df = pd.read_csv(df_path + df_file_train_stances,\n",
        "                             keep_default_na=False, na_values=[\"\"])"
      ],
      "execution_count": 0,
      "outputs": []
    },
    {
      "cell_type": "code",
      "metadata": {
        "id": "CFwdB7NKPTtr",
        "colab_type": "code",
        "outputId": "bf47a49d-5cc3-456b-cb8d-133acc759d68",
        "colab": {
          "base_uri": "https://localhost:8080/",
          "height": 50
        }
      },
      "source": [
        "print(\"Total stances: \" + str(len(trainbodies_df)))\n",
        "print(\"Total bodies: \" + str(len(trainstances_df)))"
      ],
      "execution_count": 194,
      "outputs": [
        {
          "output_type": "stream",
          "text": [
            "Total stances: 1683\n",
            "Total bodies: 49972\n"
          ],
          "name": "stdout"
        }
      ]
    },
    {
      "cell_type": "code",
      "metadata": {
        "id": "iHQCTC52r5fO",
        "colab_type": "code",
        "outputId": "e6f291b6-8a7b-43f4-e8e0-5580614b6315",
        "colab": {
          "base_uri": "https://localhost:8080/",
          "height": 33
        }
      },
      "source": [
        "trainbodies_df.columns\n"
      ],
      "execution_count": 195,
      "outputs": [
        {
          "output_type": "execute_result",
          "data": {
            "text/plain": [
              "Index(['Body ID', 'articleBody'], dtype='object')"
            ]
          },
          "metadata": {
            "tags": []
          },
          "execution_count": 195
        }
      ]
    },
    {
      "cell_type": "code",
      "metadata": {
        "id": "rxMwwoTRBN9n",
        "colab_type": "code",
        "outputId": "85003e6c-c7f2-4526-d139-4c33a9d22a4b",
        "colab": {
          "base_uri": "https://localhost:8080/",
          "height": 197
        }
      },
      "source": [
        "trainbodies_df.sort_values(by='Body ID')\n",
        "trainbodies_df.head()"
      ],
      "execution_count": 196,
      "outputs": [
        {
          "output_type": "execute_result",
          "data": {
            "text/html": [
              "<div>\n",
              "<style scoped>\n",
              "    .dataframe tbody tr th:only-of-type {\n",
              "        vertical-align: middle;\n",
              "    }\n",
              "\n",
              "    .dataframe tbody tr th {\n",
              "        vertical-align: top;\n",
              "    }\n",
              "\n",
              "    .dataframe thead th {\n",
              "        text-align: right;\n",
              "    }\n",
              "</style>\n",
              "<table border=\"1\" class=\"dataframe\">\n",
              "  <thead>\n",
              "    <tr style=\"text-align: right;\">\n",
              "      <th></th>\n",
              "      <th>Body ID</th>\n",
              "      <th>articleBody</th>\n",
              "    </tr>\n",
              "  </thead>\n",
              "  <tbody>\n",
              "    <tr>\n",
              "      <th>0</th>\n",
              "      <td>0</td>\n",
              "      <td>A small meteorite crashed into a wooded area i...</td>\n",
              "    </tr>\n",
              "    <tr>\n",
              "      <th>1</th>\n",
              "      <td>4</td>\n",
              "      <td>Last week we hinted at what was to come as Ebo...</td>\n",
              "    </tr>\n",
              "    <tr>\n",
              "      <th>2</th>\n",
              "      <td>5</td>\n",
              "      <td>(NEWSER) – Wonder how long a Quarter Pounder w...</td>\n",
              "    </tr>\n",
              "    <tr>\n",
              "      <th>3</th>\n",
              "      <td>6</td>\n",
              "      <td>Posting photos of a gun-toting child online, I...</td>\n",
              "    </tr>\n",
              "    <tr>\n",
              "      <th>4</th>\n",
              "      <td>7</td>\n",
              "      <td>At least 25 suspected Boko Haram insurgents we...</td>\n",
              "    </tr>\n",
              "  </tbody>\n",
              "</table>\n",
              "</div>"
            ],
            "text/plain": [
              "   Body ID                                        articleBody\n",
              "0        0  A small meteorite crashed into a wooded area i...\n",
              "1        4  Last week we hinted at what was to come as Ebo...\n",
              "2        5  (NEWSER) – Wonder how long a Quarter Pounder w...\n",
              "3        6  Posting photos of a gun-toting child online, I...\n",
              "4        7  At least 25 suspected Boko Haram insurgents we..."
            ]
          },
          "metadata": {
            "tags": []
          },
          "execution_count": 196
        }
      ]
    },
    {
      "cell_type": "code",
      "metadata": {
        "id": "E3slEZyq2ANY",
        "colab_type": "code",
        "outputId": "4d2ce88a-e364-43f3-c690-106f757ccb6e",
        "colab": {
          "base_uri": "https://localhost:8080/",
          "height": 33
        }
      },
      "source": [
        "trainstances_df.columns"
      ],
      "execution_count": 197,
      "outputs": [
        {
          "output_type": "execute_result",
          "data": {
            "text/plain": [
              "Index(['Headline', 'Body ID', 'Stance'], dtype='object')"
            ]
          },
          "metadata": {
            "tags": []
          },
          "execution_count": 197
        }
      ]
    },
    {
      "cell_type": "code",
      "metadata": {
        "id": "3cYVWsVCBKdW",
        "colab_type": "code",
        "outputId": "cca6ee2b-5250-4462-ebff-a8fff295d111",
        "colab": {
          "base_uri": "https://localhost:8080/",
          "height": 197
        }
      },
      "source": [
        "trainstances_df.sort_values(by='Body ID')\n",
        "trainstances_df.head()"
      ],
      "execution_count": 198,
      "outputs": [
        {
          "output_type": "execute_result",
          "data": {
            "text/html": [
              "<div>\n",
              "<style scoped>\n",
              "    .dataframe tbody tr th:only-of-type {\n",
              "        vertical-align: middle;\n",
              "    }\n",
              "\n",
              "    .dataframe tbody tr th {\n",
              "        vertical-align: top;\n",
              "    }\n",
              "\n",
              "    .dataframe thead th {\n",
              "        text-align: right;\n",
              "    }\n",
              "</style>\n",
              "<table border=\"1\" class=\"dataframe\">\n",
              "  <thead>\n",
              "    <tr style=\"text-align: right;\">\n",
              "      <th></th>\n",
              "      <th>Headline</th>\n",
              "      <th>Body ID</th>\n",
              "      <th>Stance</th>\n",
              "    </tr>\n",
              "  </thead>\n",
              "  <tbody>\n",
              "    <tr>\n",
              "      <th>0</th>\n",
              "      <td>Police find mass graves with at least '15 bodi...</td>\n",
              "      <td>712</td>\n",
              "      <td>discuss</td>\n",
              "    </tr>\n",
              "    <tr>\n",
              "      <th>1</th>\n",
              "      <td>Hundreds of Palestinians flee floods in Gaza a...</td>\n",
              "      <td>158</td>\n",
              "      <td>discuss</td>\n",
              "    </tr>\n",
              "    <tr>\n",
              "      <th>2</th>\n",
              "      <td>Christian Bale passes on role of Steve Jobs, a...</td>\n",
              "      <td>137</td>\n",
              "      <td>disagree</td>\n",
              "    </tr>\n",
              "    <tr>\n",
              "      <th>3</th>\n",
              "      <td>HBO and Apple in Talks for $15/Month Apple TV ...</td>\n",
              "      <td>1034</td>\n",
              "      <td>disagree</td>\n",
              "    </tr>\n",
              "    <tr>\n",
              "      <th>4</th>\n",
              "      <td>Spider burrowed through tourist's stomach and ...</td>\n",
              "      <td>1923</td>\n",
              "      <td>agree</td>\n",
              "    </tr>\n",
              "  </tbody>\n",
              "</table>\n",
              "</div>"
            ],
            "text/plain": [
              "                                            Headline  Body ID    Stance\n",
              "0  Police find mass graves with at least '15 bodi...      712   discuss\n",
              "1  Hundreds of Palestinians flee floods in Gaza a...      158   discuss\n",
              "2  Christian Bale passes on role of Steve Jobs, a...      137  disagree\n",
              "3  HBO and Apple in Talks for $15/Month Apple TV ...     1034  disagree\n",
              "4  Spider burrowed through tourist's stomach and ...     1923     agree"
            ]
          },
          "metadata": {
            "tags": []
          },
          "execution_count": 198
        }
      ]
    },
    {
      "cell_type": "code",
      "metadata": {
        "id": "PwbusOPt3Y8O",
        "colab_type": "code",
        "outputId": "82e66c40-e670-441c-b1df-a11f352e4649",
        "colab": {
          "base_uri": "https://localhost:8080/",
          "height": 33
        }
      },
      "source": [
        "train_df = pd.merge(trainbodies_df,trainstances_df, on=\"Body ID\")\n",
        "print(\"Total training examples: \" + str(len(train_df)))"
      ],
      "execution_count": 199,
      "outputs": [
        {
          "output_type": "stream",
          "text": [
            "Total training examples: 49972\n"
          ],
          "name": "stdout"
        }
      ]
    },
    {
      "cell_type": "code",
      "metadata": {
        "id": "re_qv_IQBd6H",
        "colab_type": "code",
        "outputId": "8389a067-e1a9-446c-ef53-73d3ce35bf9a",
        "colab": {
          "base_uri": "https://localhost:8080/",
          "height": 33
        }
      },
      "source": [
        "train_df.columns"
      ],
      "execution_count": 200,
      "outputs": [
        {
          "output_type": "execute_result",
          "data": {
            "text/plain": [
              "Index(['Body ID', 'articleBody', 'Headline', 'Stance'], dtype='object')"
            ]
          },
          "metadata": {
            "tags": []
          },
          "execution_count": 200
        }
      ]
    },
    {
      "cell_type": "code",
      "metadata": {
        "id": "tQH7gocfBkzg",
        "colab_type": "code",
        "outputId": "620dc96a-d2eb-4616-9f1c-d95097cb7c72",
        "colab": {
          "base_uri": "https://localhost:8080/",
          "height": 197
        }
      },
      "source": [
        "train_df.head()"
      ],
      "execution_count": 201,
      "outputs": [
        {
          "output_type": "execute_result",
          "data": {
            "text/html": [
              "<div>\n",
              "<style scoped>\n",
              "    .dataframe tbody tr th:only-of-type {\n",
              "        vertical-align: middle;\n",
              "    }\n",
              "\n",
              "    .dataframe tbody tr th {\n",
              "        vertical-align: top;\n",
              "    }\n",
              "\n",
              "    .dataframe thead th {\n",
              "        text-align: right;\n",
              "    }\n",
              "</style>\n",
              "<table border=\"1\" class=\"dataframe\">\n",
              "  <thead>\n",
              "    <tr style=\"text-align: right;\">\n",
              "      <th></th>\n",
              "      <th>Body ID</th>\n",
              "      <th>articleBody</th>\n",
              "      <th>Headline</th>\n",
              "      <th>Stance</th>\n",
              "    </tr>\n",
              "  </thead>\n",
              "  <tbody>\n",
              "    <tr>\n",
              "      <th>0</th>\n",
              "      <td>0</td>\n",
              "      <td>A small meteorite crashed into a wooded area i...</td>\n",
              "      <td>Soldier shot, Parliament locked down after gun...</td>\n",
              "      <td>discuss</td>\n",
              "    </tr>\n",
              "    <tr>\n",
              "      <th>1</th>\n",
              "      <td>0</td>\n",
              "      <td>A small meteorite crashed into a wooded area i...</td>\n",
              "      <td>Tourist dubbed ‘Spider Man’ after spider burro...</td>\n",
              "      <td>disagree</td>\n",
              "    </tr>\n",
              "    <tr>\n",
              "      <th>2</th>\n",
              "      <td>0</td>\n",
              "      <td>A small meteorite crashed into a wooded area i...</td>\n",
              "      <td>Luke Somers 'killed in failed rescue attempt i...</td>\n",
              "      <td>agree</td>\n",
              "    </tr>\n",
              "    <tr>\n",
              "      <th>3</th>\n",
              "      <td>0</td>\n",
              "      <td>A small meteorite crashed into a wooded area i...</td>\n",
              "      <td>BREAKING: Soldier shot at War Memorial in Ottawa</td>\n",
              "      <td>unrelated</td>\n",
              "    </tr>\n",
              "    <tr>\n",
              "      <th>4</th>\n",
              "      <td>0</td>\n",
              "      <td>A small meteorite crashed into a wooded area i...</td>\n",
              "      <td>Giant 8ft 9in catfish weighing 19 stone caught...</td>\n",
              "      <td>agree</td>\n",
              "    </tr>\n",
              "  </tbody>\n",
              "</table>\n",
              "</div>"
            ],
            "text/plain": [
              "   Body ID  ...     Stance\n",
              "0        0  ...    discuss\n",
              "1        0  ...   disagree\n",
              "2        0  ...      agree\n",
              "3        0  ...  unrelated\n",
              "4        0  ...      agree\n",
              "\n",
              "[5 rows x 4 columns]"
            ]
          },
          "metadata": {
            "tags": []
          },
          "execution_count": 201
        }
      ]
    },
    {
      "cell_type": "code",
      "metadata": {
        "id": "flG1wmhGBmaT",
        "colab_type": "code",
        "outputId": "5196a2eb-6773-4ce7-b171-f187966d5521",
        "colab": {
          "base_uri": "https://localhost:8080/",
          "height": 197
        }
      },
      "source": [
        "train_df.tail()"
      ],
      "execution_count": 202,
      "outputs": [
        {
          "output_type": "execute_result",
          "data": {
            "text/html": [
              "<div>\n",
              "<style scoped>\n",
              "    .dataframe tbody tr th:only-of-type {\n",
              "        vertical-align: middle;\n",
              "    }\n",
              "\n",
              "    .dataframe tbody tr th {\n",
              "        vertical-align: top;\n",
              "    }\n",
              "\n",
              "    .dataframe thead th {\n",
              "        text-align: right;\n",
              "    }\n",
              "</style>\n",
              "<table border=\"1\" class=\"dataframe\">\n",
              "  <thead>\n",
              "    <tr style=\"text-align: right;\">\n",
              "      <th></th>\n",
              "      <th>Body ID</th>\n",
              "      <th>articleBody</th>\n",
              "      <th>Headline</th>\n",
              "      <th>Stance</th>\n",
              "    </tr>\n",
              "  </thead>\n",
              "  <tbody>\n",
              "    <tr>\n",
              "      <th>49967</th>\n",
              "      <td>2532</td>\n",
              "      <td>ANN ARBOR, Mich. – A pizza delivery man in Mic...</td>\n",
              "      <td>Pizza delivery man gets tipped more than $2,00...</td>\n",
              "      <td>disagree</td>\n",
              "    </tr>\n",
              "    <tr>\n",
              "      <th>49968</th>\n",
              "      <td>2532</td>\n",
              "      <td>ANN ARBOR, Mich. – A pizza delivery man in Mic...</td>\n",
              "      <td>Pizza delivery man gets $2,000 tip</td>\n",
              "      <td>unrelated</td>\n",
              "    </tr>\n",
              "    <tr>\n",
              "      <th>49969</th>\n",
              "      <td>2532</td>\n",
              "      <td>ANN ARBOR, Mich. – A pizza delivery man in Mic...</td>\n",
              "      <td>Luckiest Pizza Delivery Guy Ever Gets $2,000 Tip</td>\n",
              "      <td>discuss</td>\n",
              "    </tr>\n",
              "    <tr>\n",
              "      <th>49970</th>\n",
              "      <td>2532</td>\n",
              "      <td>ANN ARBOR, Mich. – A pizza delivery man in Mic...</td>\n",
              "      <td>Ann Arbor pizza delivery driver surprised with...</td>\n",
              "      <td>disagree</td>\n",
              "    </tr>\n",
              "    <tr>\n",
              "      <th>49971</th>\n",
              "      <td>2532</td>\n",
              "      <td>ANN ARBOR, Mich. – A pizza delivery man in Mic...</td>\n",
              "      <td>Ann Arbor pizza delivery driver surprised with...</td>\n",
              "      <td>agree</td>\n",
              "    </tr>\n",
              "  </tbody>\n",
              "</table>\n",
              "</div>"
            ],
            "text/plain": [
              "       Body ID  ...     Stance\n",
              "49967     2532  ...   disagree\n",
              "49968     2532  ...  unrelated\n",
              "49969     2532  ...    discuss\n",
              "49970     2532  ...   disagree\n",
              "49971     2532  ...      agree\n",
              "\n",
              "[5 rows x 4 columns]"
            ]
          },
          "metadata": {
            "tags": []
          },
          "execution_count": 202
        }
      ]
    },
    {
      "cell_type": "markdown",
      "metadata": {
        "id": "BC70uiU2jk7Q",
        "colab_type": "text"
      },
      "source": [
        ""
      ]
    },
    {
      "cell_type": "code",
      "metadata": {
        "id": "jMw8zv30U0wg",
        "colab_type": "code",
        "colab": {}
      },
      "source": [
        "data = train_df['Stance']\n",
        "data_temp= data\n",
        "data_temp['id'] = 'data'\n"
      ],
      "execution_count": 0,
      "outputs": []
    },
    {
      "cell_type": "code",
      "metadata": {
        "id": "JLi4uURuYW7s",
        "colab_type": "code",
        "colab": {
          "base_uri": "https://localhost:8080/",
          "height": 117
        },
        "outputId": "5eb83f5a-0e3d-4a38-f8da-05cd2e45970e"
      },
      "source": [
        "data_temp.head()"
      ],
      "execution_count": 212,
      "outputs": [
        {
          "output_type": "execute_result",
          "data": {
            "text/plain": [
              "0      discuss\n",
              "1     disagree\n",
              "2        agree\n",
              "3    unrelated\n",
              "4        agree\n",
              "Name: Stance, dtype: object"
            ]
          },
          "metadata": {
            "tags": []
          },
          "execution_count": 212
        }
      ]
    },
    {
      "cell_type": "code",
      "metadata": {
        "id": "hLShcUS8jfiF",
        "colab_type": "code",
        "colab": {}
      },
      "source": [
        "import matplotlib.pyplot as plt\n",
        "import pandas as pd\n",
        "import seaborn as sns\n",
        "\n",
        "pkmn_type_colors = ['#78C850',  # Grass\n",
        "                    '#F08030',  # Fire\n",
        "                    '#6890F0',  # Water\n",
        "                    '#A8B820',  # Bug\n",
        "                    '#A8A878',  # Normal\n",
        "                    '#A040A0',  # Poison\n",
        "                    '#F8D030',  # Electric\n",
        "                    '#E0C068',  # Ground\n",
        "                    '#EE99AC',  # Fairy\n",
        "                    '#C03028',  # Fighting\n",
        "                    '#F85888',  # Psychic\n",
        "                    '#B8A038',  # Rock\n",
        "                    '#705898',  # Ghost\n",
        "                    '#98D8D8',  # Ice\n",
        "                    '#7038F8',  # Dragon\n",
        "                   ]\n",
        "sns.set(font_scale=1.4)\n",
        "plt.figure(figsize=(12.8,6))\n",
        "data.value_counts().plot(kind='bar', rot=0)\n",
        "plt.xlabel(\"Stance\", labelpad=14)\n",
        "plt.ylabel(\"Articles\", labelpad=14)\n",
        "plt.title(\"Count Articles by Stance\", y=1.02);\n",
        "fig.show()"
      ],
      "execution_count": 0,
      "outputs": []
    },
    {
      "cell_type": "markdown",
      "metadata": {
        "id": "amMiXLw2kYtz",
        "colab_type": "text"
      },
      "source": [
        ""
      ]
    },
    {
      "cell_type": "code",
      "metadata": {
        "id": "I6W9tHFkkZRE",
        "colab_type": "code",
        "colab": {}
      },
      "source": [
        "import pandas as pd\n",
        "import numpy as np\n",
        "data_temp= data.insert(0,'id', 1)\n",
        "data.head(10)\n",
        "\n"
      ],
      "execution_count": 0,
      "outputs": []
    },
    {
      "cell_type": "code",
      "metadata": {
        "id": "h_esAvwjJfAJ",
        "colab_type": "code",
        "colab": {}
      },
      "source": [
        "data_2 = pd.DataFrame(data.groupby('Stance').count()['id']).reset_index()"
      ],
      "execution_count": 0,
      "outputs": []
    },
    {
      "cell_type": "code",
      "metadata": {
        "id": "GcmlZElaJSGl",
        "colab_type": "code",
        "colab": {}
      },
      "source": [
        "bars = alt.Chart(data_2).mark_bar(size=50).encode(\n",
        "    x=alt.X('Stance'),\n",
        "    y=alt.Y('PercentOfTotal:Q', axis=alt.Axis(format='.0%', title='% of Articles')),\n",
        "    color='Stance'\n",
        ").transform_window(\n",
        "    TotalArticles='sum(id)',\n",
        "    frame=[None, None]\n",
        ").transform_calculate(\n",
        "    PercentOfTotal=\"datum.id / datum.TotalArticles\"\n",
        ")\n",
        "\n",
        "text = bars.mark_text(\n",
        "    align='center',\n",
        "    baseline='bottom',\n",
        "    #dx=5  # Nudges text to right so it doesn't appear on top of the bar\n",
        ").encode(\n",
        "    text=alt.Text('PercentOfTotal:Q', format='.1%')\n",
        ")\n",
        "\n",
        "(bars + text).interactive().properties(\n",
        "    height=300, \n",
        "    width=700,\n",
        "    title = \"% of articles in each category\",\n",
        ")"
      ],
      "execution_count": 0,
      "outputs": []
    },
    {
      "cell_type": "markdown",
      "metadata": {
        "id": "IWs1TlCIu2b4",
        "colab_type": "text"
      },
      "source": [
        "Checking Article Body lenght to review is there is not a big diffence. This is important as during feature creation process may take total number of words"
      ]
    },
    {
      "cell_type": "code",
      "metadata": {
        "id": "FsLz7Snyvas2",
        "colab_type": "code",
        "colab": {}
      },
      "source": [
        "train_df['Article_lenght'] = train_df['articleBody'].str.len()"
      ],
      "execution_count": 0,
      "outputs": []
    },
    {
      "cell_type": "code",
      "metadata": {
        "id": "0tjmtuOgv6KJ",
        "colab_type": "code",
        "colab": {}
      },
      "source": [
        "plt.figure(figsize=(12.8,6))\n",
        "sns.distplot(train_df['Article_lenght']).set_title('News length distribution');"
      ],
      "execution_count": 0,
      "outputs": []
    },
    {
      "cell_type": "code",
      "metadata": {
        "id": "CW9GoovwwDUK",
        "colab_type": "code",
        "colab": {}
      },
      "source": [
        "train_df['Article_lenght'].describe()"
      ],
      "execution_count": 0,
      "outputs": []
    },
    {
      "cell_type": "markdown",
      "metadata": {
        "id": "4Ch-SWK5wcP8",
        "colab_type": "text"
      },
      "source": [
        "Now we will focus on 95% percentile to better appreciate examples' behaviour for lenght"
      ]
    },
    {
      "cell_type": "code",
      "metadata": {
        "id": "238sLCvowbIU",
        "colab_type": "code",
        "colab": {}
      },
      "source": [
        "quantile_95 = train_df['Article_lenght'].quantile(0.95)\n",
        "train_df_95 = train_df[train_df['Article_lenght'] < quantile_95]\n",
        "print(\"95% percentile Article Lenght threshold: \" + str(quantile_95))"
      ],
      "execution_count": 0,
      "outputs": []
    },
    {
      "cell_type": "code",
      "metadata": {
        "id": "m-Y1XjCjw48J",
        "colab_type": "code",
        "colab": {}
      },
      "source": [
        "plt.figure(figsize=(12.8,6))\n",
        "sns.distplot(train_df_95['Article_lenght']).set_title('Article_lenght distribution');"
      ],
      "execution_count": 0,
      "outputs": []
    },
    {
      "cell_type": "markdown",
      "metadata": {
        "id": "Wp4aib9GxUF3",
        "colab_type": "text"
      },
      "source": [
        "Next we will like to know how many articles are over 95% percentail in thier character count for article body. We do this just to understand data before feature engineering"
      ]
    },
    {
      "cell_type": "code",
      "metadata": {
        "id": "F0bIXJ89yDaJ",
        "colab_type": "code",
        "colab": {}
      },
      "source": [
        "train_df__more_quantile95 = train_df[train_df['Article_lenght'] > quantile_95]\n",
        "print(\"Total Articles are above 95% quantile word count threshold: \" + str(len(train_df__more_quantile95)))"
      ],
      "execution_count": 0,
      "outputs": []
    },
    {
      "cell_type": "markdown",
      "metadata": {
        "id": "H3VU7Zy_7qUY",
        "colab_type": "text"
      },
      "source": [
        "Let's use a BOX PLOT chart vizualitation to understand length distribution in every Stance class"
      ]
    },
    {
      "cell_type": "code",
      "metadata": {
        "id": "gpBabQ2L7-5E",
        "colab_type": "code",
        "colab": {}
      },
      "source": [
        "plt.figure(figsize=(12.8,6))\n",
        "sns.boxplot(data=train_df, x='Stance', y='Article_lenght', width=.5);"
      ],
      "execution_count": 0,
      "outputs": []
    },
    {
      "cell_type": "markdown",
      "metadata": {
        "id": "PGUSDd3Y8R4G",
        "colab_type": "text"
      },
      "source": [
        "We will use the same approach as histogram, and focus on 95% percentile using the train_df_95 dataframe "
      ]
    },
    {
      "cell_type": "code",
      "metadata": {
        "id": "1tp4iU2f8p-4",
        "colab_type": "code",
        "colab": {}
      },
      "source": [
        "plt.figure(figsize=(12.8,6))\n",
        "sns.boxplot(data=train_df_95, x='Stance', y='Article_lenght', width=.5);"
      ],
      "execution_count": 0,
      "outputs": []
    },
    {
      "cell_type": "markdown",
      "metadata": {
        "id": "aMX4rVPf9MDb",
        "colab_type": "text"
      },
      "source": [
        "Now we will save the data set in a pickle to convert the Train DataFrame into a byte stream to store the train data for furure use. Remember that train data resulted from joinning files, so we must store it as a different file"
      ]
    },
    {
      "cell_type": "code",
      "metadata": {
        "id": "H7YHlEpD9IVx",
        "colab_type": "code",
        "colab": {}
      },
      "source": [
        "import pickle as pkl\n",
        "with open('News_dataset.pickle', 'wb') as output:\n",
        "    pickle.dump(train_df, output)"
      ],
      "execution_count": 0,
      "outputs": []
    }
  ]
}
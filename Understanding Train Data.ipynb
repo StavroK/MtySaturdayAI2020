{
  "nbformat": 4,
  "nbformat_minor": 0,
  "metadata": {
    "colab": {
      "name": "Fakenews Challenge.ipynb",
      "provenance": [],
      "collapsed_sections": [],
      "toc_visible": true,
      "mount_file_id": "https://github.com/StavroK/MtySaturdayAI2020/blob/master/Fakenews_Project.ipynb",
      "authorship_tag": "ABX9TyMeoPXg+Dlta7x5YlDlFe6N",
      "include_colab_link": true
    },
    "kernelspec": {
      "name": "python3",
      "display_name": "Python 3"
    }
  },
  "cells": [
    {
      "cell_type": "markdown",
      "metadata": {
        "id": "view-in-github",
        "colab_type": "text"
      },
      "source": [
        "<a href=\"https://colab.research.google.com/github/StavroK/MtySaturdayAI2020/blob/master/Understanding%20Train%20Data.ipynb\" target=\"_parent\"><img src=\"https://colab.research.google.com/assets/colab-badge.svg\" alt=\"Open In Colab\"/></a>"
      ]
    },
    {
      "cell_type": "code",
      "metadata": {
        "id": "dCsOY9I_mMhU",
        "colab_type": "code",
        "outputId": "49689eaa-c7a4-4174-cde5-0f66f5d6bcaf",
        "colab": {
          "base_uri": "https://localhost:8080/",
          "height": 33
        }
      },
      "source": [
        "# navidate to packages library of your colab using the following command\n",
        "%cd /usr/local/lib/python3.6/dist-packages"
      ],
      "execution_count": 23,
      "outputs": [
        {
          "output_type": "stream",
          "text": [
            "/usr/local/lib/python3.6/dist-packages\n"
          ],
          "name": "stdout"
        }
      ]
    },
    {
      "cell_type": "code",
      "metadata": {
        "id": "sojJxGrscdYM",
        "colab_type": "code",
        "outputId": "58a69945-daa5-4096-8d5d-3c841181cd26",
        "colab": {
          "base_uri": "https://localhost:8080/",
          "height": 553
        }
      },
      "source": [
        "# use these commands to install and check installation\n",
        "\n",
        "# ! pip install git+https://github.com/locationofpackage\n",
        "# ! pip show nameofpackage\n",
        "\n",
        "# we are checking for the following packages required to execute our code\n",
        "\n",
        "# matplotlib - extension of NumPy enables you to embed plots into applications\n",
        "# pandas - used to clean, transform, manipulate and analize data\n",
        "# pickle - used to convert a python object into a character stream\n",
        "# pip - used to manage installation and updates of python packages\n",
        "# seaborn - based on matplotlib is used to vizualize example lenght by category \n",
        "# warnings - used to hide warinings coming from seaborn package\n",
        "\n",
        "! pip show matplotlib\n",
        "! pip show pandas\n",
        "! pip show seaborn\n",
        "! pip show warnings\n"
      ],
      "execution_count": 24,
      "outputs": [
        {
          "output_type": "stream",
          "text": [
            "Name: matplotlib\n",
            "Version: 3.2.1\n",
            "Summary: Python plotting package\n",
            "Home-page: https://matplotlib.org\n",
            "Author: John D. Hunter, Michael Droettboom\n",
            "Author-email: matplotlib-users@python.org\n",
            "License: PSF\n",
            "Location: /usr/local/lib/python3.6/dist-packages\n",
            "Requires: python-dateutil, pyparsing, cycler, kiwisolver, numpy\n",
            "Required-by: yellowbrick, seaborn, scikit-image, plotnine, pandas-profiling, mlxtend, mizani, missingno, matplotlib-venn, keras-vis, imgaug, fbprophet, fastai, descartes, daft\n",
            "Name: pandas\n",
            "Version: 1.0.3\n",
            "Summary: Powerful data structures for data analysis, time series, and statistics\n",
            "Home-page: https://pandas.pydata.org\n",
            "Author: None\n",
            "Author-email: None\n",
            "License: BSD\n",
            "Location: /usr/local/lib/python3.6/dist-packages\n",
            "Requires: numpy, python-dateutil, pytz\n",
            "Required-by: xarray, vega-datasets, statsmodels, sklearn-pandas, seaborn, pymc3, plotnine, pandas-profiling, pandas-gbq, pandas-datareader, mlxtend, mizani, gspread-dataframe, google-colab, fix-yahoo-finance, featuretools, fbprophet, fastai, cufflinks, cmdstanpy, altair\n",
            "Name: seaborn\n",
            "Version: 0.10.1\n",
            "Summary: seaborn: statistical data visualization\n",
            "Home-page: https://seaborn.pydata.org\n",
            "Author: Michael Waskom\n",
            "Author-email: mwaskom@nyu.edu\n",
            "License: BSD (3-clause)\n",
            "Location: /usr/local/lib/python3.6/dist-packages\n",
            "Requires: matplotlib, numpy, pandas, scipy\n",
            "Required-by: missingno\n",
            "\u001b[33mWARNING: Package(s) not found: warnings\u001b[0m\n"
          ],
          "name": "stdout"
        }
      ]
    },
    {
      "cell_type": "markdown",
      "metadata": {
        "id": "mevw_bE_Wl8m",
        "colab_type": "text"
      },
      "source": [
        "**Data Set Analysis**\n",
        "\n",
        "In this step we will check for a balanced data so we can train the machine learning models without oversampling or undersampling classes. If we see some bias towards one class we need to apply techniques to manage this issue with our data set.\n",
        "\n",
        "First step is to check if we have all Python packages we need be using to visualize the characteristics of the dataset to check for class balance, and install those missing if any. We will need to join files containing labeling of examples to content of articles for our purpose.\n",
        "\n",
        "\n",
        "We want to check for: 1. Number of examples in each class, 2. Total Percentage of examples in each class, 3. Distribution of the lenght of each example as we will use its word content to train for classification.\n"
      ]
    },
    {
      "cell_type": "code",
      "metadata": {
        "id": "LAENgkVySxye",
        "colab_type": "code",
        "colab": {}
      },
      "source": [
        "# This command will show you the \"Location\" of your package\n",
        "# I am using numpy as is the most common package \n",
        "#! pip show numpy"
      ],
      "execution_count": 0,
      "outputs": []
    },
    {
      "cell_type": "markdown",
      "metadata": {
        "id": "dAGDPipevMsl",
        "colab_type": "text"
      },
      "source": [
        "Now that we have secured environment requirements for python packages that will be declared in the code, next we will import them into the program"
      ]
    },
    {
      "cell_type": "code",
      "metadata": {
        "id": "j1ZntwLOvMfk",
        "colab_type": "code",
        "outputId": "b6b91404-b137-4840-e622-ec7877e1eefc",
        "colab": {
          "base_uri": "https://localhost:8080/",
          "height": 33
        }
      },
      "source": [
        "%cd /usr/local/lib/python3.6/dist-packages\n",
        "import matplotlib.pyplot as plt\n",
        "import numpy as np\n",
        "import pandas as pd\n",
        "import pickle as pkl\n",
        "import seaborn as sns\n",
        "import warnings"
      ],
      "execution_count": 26,
      "outputs": [
        {
          "output_type": "stream",
          "text": [
            "/usr/local/lib/python3.6/dist-packages\n"
          ],
          "name": "stdout"
        }
      ]
    },
    {
      "cell_type": "markdown",
      "metadata": {
        "id": "V6bR0056rHOL",
        "colab_type": "text"
      },
      "source": [
        "We want to check for: 1. Number of examples in each class, 2. Total Percentage of examples in each class, 3. Distribution of the lenght of each example as we will use its word content to train for classification.\n",
        "\n",
        "Data is already included in /content/FakeNews folder. Data is already separated by example content and labeled files, and also in train, test and demo files to keep process clean.\n"
      ]
    },
    {
      "cell_type": "markdown",
      "metadata": {
        "id": "gMLi_5V6RCu-",
        "colab_type": "text"
      },
      "source": [
        "To upload trainning examples (which are stored in CSV )files is from the GitHub repository. Click on the dataset in repository, then click on View Raw. Copy the link to the raw dataset and store it as a string variable then to load the link into Pandas read_csv to get the data frame."
      ]
    },
    {
      "cell_type": "code",
      "metadata": {
        "id": "oZjf8xu5SL88",
        "colab_type": "code",
        "colab": {}
      },
      "source": [
        "import pandas as pd\n",
        "data = []\n",
        "train_df=[]\n",
        "trainbodies_df = []\n",
        "trainstances_df = []"
      ],
      "execution_count": 0,
      "outputs": []
    },
    {
      "cell_type": "code",
      "metadata": {
        "id": "ORK_PlGzQ2cm",
        "colab_type": "code",
        "colab": {}
      },
      "source": [
        "trainbodies_url = 'https://raw.githubusercontent.com/StavroK/MtySaturdayAI2020/master/train_bodies.csv'\n",
        "trainbodies_df = pd.read_csv(trainbodies_url)"
      ],
      "execution_count": 0,
      "outputs": []
    },
    {
      "cell_type": "code",
      "metadata": {
        "id": "RCd8-rlrRvvB",
        "colab_type": "code",
        "colab": {}
      },
      "source": [
        "trainstances_url = 'https://raw.githubusercontent.com/StavroK/MtySaturdayAI2020/master/train_stances.random.csv'\n",
        "trainstances_df = pd.read_csv(trainstances_url)"
      ],
      "execution_count": 0,
      "outputs": []
    },
    {
      "cell_type": "code",
      "metadata": {
        "id": "CFwdB7NKPTtr",
        "colab_type": "code",
        "outputId": "013e1fbe-1acb-471b-b34b-29a4d2c82eba",
        "colab": {
          "base_uri": "https://localhost:8080/",
          "height": 50
        }
      },
      "source": [
        "print(\"Total stances: \" + str(len(trainbodies_df)))\n",
        "print(\"Total bodies: \" + str(len(trainstances_df)))"
      ],
      "execution_count": 30,
      "outputs": [
        {
          "output_type": "stream",
          "text": [
            "Total stances: 1683\n",
            "Total bodies: 49972\n"
          ],
          "name": "stdout"
        }
      ]
    },
    {
      "cell_type": "code",
      "metadata": {
        "id": "iHQCTC52r5fO",
        "colab_type": "code",
        "outputId": "2a78082a-4c23-4e81-f418-2b4dfa2c48d9",
        "colab": {
          "base_uri": "https://localhost:8080/",
          "height": 33
        }
      },
      "source": [
        "trainbodies_df.columns\n"
      ],
      "execution_count": 31,
      "outputs": [
        {
          "output_type": "execute_result",
          "data": {
            "text/plain": [
              "Index(['Body ID', 'articleBody'], dtype='object')"
            ]
          },
          "metadata": {
            "tags": []
          },
          "execution_count": 31
        }
      ]
    },
    {
      "cell_type": "code",
      "metadata": {
        "id": "rxMwwoTRBN9n",
        "colab_type": "code",
        "outputId": "17f73c81-915b-462b-fae4-83088f81a15c",
        "colab": {
          "base_uri": "https://localhost:8080/",
          "height": 197
        }
      },
      "source": [
        "trainbodies_df.sort_values(by='Body ID')\n",
        "trainbodies_df.head()"
      ],
      "execution_count": 32,
      "outputs": [
        {
          "output_type": "execute_result",
          "data": {
            "text/html": [
              "<div>\n",
              "<style scoped>\n",
              "    .dataframe tbody tr th:only-of-type {\n",
              "        vertical-align: middle;\n",
              "    }\n",
              "\n",
              "    .dataframe tbody tr th {\n",
              "        vertical-align: top;\n",
              "    }\n",
              "\n",
              "    .dataframe thead th {\n",
              "        text-align: right;\n",
              "    }\n",
              "</style>\n",
              "<table border=\"1\" class=\"dataframe\">\n",
              "  <thead>\n",
              "    <tr style=\"text-align: right;\">\n",
              "      <th></th>\n",
              "      <th>Body ID</th>\n",
              "      <th>articleBody</th>\n",
              "    </tr>\n",
              "  </thead>\n",
              "  <tbody>\n",
              "    <tr>\n",
              "      <th>0</th>\n",
              "      <td>0</td>\n",
              "      <td>A small meteorite crashed into a wooded area i...</td>\n",
              "    </tr>\n",
              "    <tr>\n",
              "      <th>1</th>\n",
              "      <td>4</td>\n",
              "      <td>Last week we hinted at what was to come as Ebo...</td>\n",
              "    </tr>\n",
              "    <tr>\n",
              "      <th>2</th>\n",
              "      <td>5</td>\n",
              "      <td>(NEWSER) – Wonder how long a Quarter Pounder w...</td>\n",
              "    </tr>\n",
              "    <tr>\n",
              "      <th>3</th>\n",
              "      <td>6</td>\n",
              "      <td>Posting photos of a gun-toting child online, I...</td>\n",
              "    </tr>\n",
              "    <tr>\n",
              "      <th>4</th>\n",
              "      <td>7</td>\n",
              "      <td>At least 25 suspected Boko Haram insurgents we...</td>\n",
              "    </tr>\n",
              "  </tbody>\n",
              "</table>\n",
              "</div>"
            ],
            "text/plain": [
              "   Body ID                                        articleBody\n",
              "0        0  A small meteorite crashed into a wooded area i...\n",
              "1        4  Last week we hinted at what was to come as Ebo...\n",
              "2        5  (NEWSER) – Wonder how long a Quarter Pounder w...\n",
              "3        6  Posting photos of a gun-toting child online, I...\n",
              "4        7  At least 25 suspected Boko Haram insurgents we..."
            ]
          },
          "metadata": {
            "tags": []
          },
          "execution_count": 32
        }
      ]
    },
    {
      "cell_type": "code",
      "metadata": {
        "id": "E3slEZyq2ANY",
        "colab_type": "code",
        "outputId": "da63cc83-3902-43d7-b775-54029243dcad",
        "colab": {
          "base_uri": "https://localhost:8080/",
          "height": 33
        }
      },
      "source": [
        "trainstances_df.columns"
      ],
      "execution_count": 33,
      "outputs": [
        {
          "output_type": "execute_result",
          "data": {
            "text/plain": [
              "Index(['Headline', 'Body ID', 'Stance'], dtype='object')"
            ]
          },
          "metadata": {
            "tags": []
          },
          "execution_count": 33
        }
      ]
    },
    {
      "cell_type": "code",
      "metadata": {
        "id": "3cYVWsVCBKdW",
        "colab_type": "code",
        "outputId": "3bba7a70-6f59-4c98-9a81-15f5143b4c23",
        "colab": {
          "base_uri": "https://localhost:8080/",
          "height": 197
        }
      },
      "source": [
        "trainstances_df.sort_values(by='Body ID')\n",
        "trainstances_df.head()"
      ],
      "execution_count": 34,
      "outputs": [
        {
          "output_type": "execute_result",
          "data": {
            "text/html": [
              "<div>\n",
              "<style scoped>\n",
              "    .dataframe tbody tr th:only-of-type {\n",
              "        vertical-align: middle;\n",
              "    }\n",
              "\n",
              "    .dataframe tbody tr th {\n",
              "        vertical-align: top;\n",
              "    }\n",
              "\n",
              "    .dataframe thead th {\n",
              "        text-align: right;\n",
              "    }\n",
              "</style>\n",
              "<table border=\"1\" class=\"dataframe\">\n",
              "  <thead>\n",
              "    <tr style=\"text-align: right;\">\n",
              "      <th></th>\n",
              "      <th>Headline</th>\n",
              "      <th>Body ID</th>\n",
              "      <th>Stance</th>\n",
              "    </tr>\n",
              "  </thead>\n",
              "  <tbody>\n",
              "    <tr>\n",
              "      <th>0</th>\n",
              "      <td>Police find mass graves with at least '15 bodi...</td>\n",
              "      <td>712</td>\n",
              "      <td>discuss</td>\n",
              "    </tr>\n",
              "    <tr>\n",
              "      <th>1</th>\n",
              "      <td>Hundreds of Palestinians flee floods in Gaza a...</td>\n",
              "      <td>158</td>\n",
              "      <td>discuss</td>\n",
              "    </tr>\n",
              "    <tr>\n",
              "      <th>2</th>\n",
              "      <td>Christian Bale passes on role of Steve Jobs, a...</td>\n",
              "      <td>137</td>\n",
              "      <td>disagree</td>\n",
              "    </tr>\n",
              "    <tr>\n",
              "      <th>3</th>\n",
              "      <td>HBO and Apple in Talks for $15/Month Apple TV ...</td>\n",
              "      <td>1034</td>\n",
              "      <td>disagree</td>\n",
              "    </tr>\n",
              "    <tr>\n",
              "      <th>4</th>\n",
              "      <td>Spider burrowed through tourist's stomach and ...</td>\n",
              "      <td>1923</td>\n",
              "      <td>agree</td>\n",
              "    </tr>\n",
              "  </tbody>\n",
              "</table>\n",
              "</div>"
            ],
            "text/plain": [
              "                                            Headline  Body ID    Stance\n",
              "0  Police find mass graves with at least '15 bodi...      712   discuss\n",
              "1  Hundreds of Palestinians flee floods in Gaza a...      158   discuss\n",
              "2  Christian Bale passes on role of Steve Jobs, a...      137  disagree\n",
              "3  HBO and Apple in Talks for $15/Month Apple TV ...     1034  disagree\n",
              "4  Spider burrowed through tourist's stomach and ...     1923     agree"
            ]
          },
          "metadata": {
            "tags": []
          },
          "execution_count": 34
        }
      ]
    },
    {
      "cell_type": "code",
      "metadata": {
        "id": "PwbusOPt3Y8O",
        "colab_type": "code",
        "outputId": "f2e267f7-aa3b-442b-fbad-2665e277b49c",
        "colab": {
          "base_uri": "https://localhost:8080/",
          "height": 33
        }
      },
      "source": [
        "train_df = pd.merge(trainbodies_df,trainstances_df, on=\"Body ID\")\n",
        "print(\"Total training examples: \" + str(len(train_df)))"
      ],
      "execution_count": 35,
      "outputs": [
        {
          "output_type": "stream",
          "text": [
            "Total training examples: 49972\n"
          ],
          "name": "stdout"
        }
      ]
    },
    {
      "cell_type": "code",
      "metadata": {
        "id": "re_qv_IQBd6H",
        "colab_type": "code",
        "outputId": "1abbb769-32ba-4f9f-b8fb-312b4b9b52f0",
        "colab": {
          "base_uri": "https://localhost:8080/",
          "height": 33
        }
      },
      "source": [
        "train_df.columns"
      ],
      "execution_count": 36,
      "outputs": [
        {
          "output_type": "execute_result",
          "data": {
            "text/plain": [
              "Index(['Body ID', 'articleBody', 'Headline', 'Stance'], dtype='object')"
            ]
          },
          "metadata": {
            "tags": []
          },
          "execution_count": 36
        }
      ]
    },
    {
      "cell_type": "code",
      "metadata": {
        "id": "tQH7gocfBkzg",
        "colab_type": "code",
        "outputId": "fc8d319a-8ec2-48ac-8c0c-cb55ad69ddcf",
        "colab": {
          "base_uri": "https://localhost:8080/",
          "height": 197
        }
      },
      "source": [
        "train_df.head()"
      ],
      "execution_count": 37,
      "outputs": [
        {
          "output_type": "execute_result",
          "data": {
            "text/html": [
              "<div>\n",
              "<style scoped>\n",
              "    .dataframe tbody tr th:only-of-type {\n",
              "        vertical-align: middle;\n",
              "    }\n",
              "\n",
              "    .dataframe tbody tr th {\n",
              "        vertical-align: top;\n",
              "    }\n",
              "\n",
              "    .dataframe thead th {\n",
              "        text-align: right;\n",
              "    }\n",
              "</style>\n",
              "<table border=\"1\" class=\"dataframe\">\n",
              "  <thead>\n",
              "    <tr style=\"text-align: right;\">\n",
              "      <th></th>\n",
              "      <th>Body ID</th>\n",
              "      <th>articleBody</th>\n",
              "      <th>Headline</th>\n",
              "      <th>Stance</th>\n",
              "    </tr>\n",
              "  </thead>\n",
              "  <tbody>\n",
              "    <tr>\n",
              "      <th>0</th>\n",
              "      <td>0</td>\n",
              "      <td>A small meteorite crashed into a wooded area i...</td>\n",
              "      <td>Soldier shot, Parliament locked down after gun...</td>\n",
              "      <td>discuss</td>\n",
              "    </tr>\n",
              "    <tr>\n",
              "      <th>1</th>\n",
              "      <td>0</td>\n",
              "      <td>A small meteorite crashed into a wooded area i...</td>\n",
              "      <td>Tourist dubbed ‘Spider Man’ after spider burro...</td>\n",
              "      <td>disagree</td>\n",
              "    </tr>\n",
              "    <tr>\n",
              "      <th>2</th>\n",
              "      <td>0</td>\n",
              "      <td>A small meteorite crashed into a wooded area i...</td>\n",
              "      <td>Luke Somers 'killed in failed rescue attempt i...</td>\n",
              "      <td>agree</td>\n",
              "    </tr>\n",
              "    <tr>\n",
              "      <th>3</th>\n",
              "      <td>0</td>\n",
              "      <td>A small meteorite crashed into a wooded area i...</td>\n",
              "      <td>BREAKING: Soldier shot at War Memorial in Ottawa</td>\n",
              "      <td>unrelated</td>\n",
              "    </tr>\n",
              "    <tr>\n",
              "      <th>4</th>\n",
              "      <td>0</td>\n",
              "      <td>A small meteorite crashed into a wooded area i...</td>\n",
              "      <td>Giant 8ft 9in catfish weighing 19 stone caught...</td>\n",
              "      <td>agree</td>\n",
              "    </tr>\n",
              "  </tbody>\n",
              "</table>\n",
              "</div>"
            ],
            "text/plain": [
              "   Body ID  ...     Stance\n",
              "0        0  ...    discuss\n",
              "1        0  ...   disagree\n",
              "2        0  ...      agree\n",
              "3        0  ...  unrelated\n",
              "4        0  ...      agree\n",
              "\n",
              "[5 rows x 4 columns]"
            ]
          },
          "metadata": {
            "tags": []
          },
          "execution_count": 37
        }
      ]
    },
    {
      "cell_type": "code",
      "metadata": {
        "id": "flG1wmhGBmaT",
        "colab_type": "code",
        "outputId": "f3444b98-e63d-4bf4-b6f0-84b790a9ff88",
        "colab": {
          "base_uri": "https://localhost:8080/",
          "height": 197
        }
      },
      "source": [
        "train_df.tail()"
      ],
      "execution_count": 38,
      "outputs": [
        {
          "output_type": "execute_result",
          "data": {
            "text/html": [
              "<div>\n",
              "<style scoped>\n",
              "    .dataframe tbody tr th:only-of-type {\n",
              "        vertical-align: middle;\n",
              "    }\n",
              "\n",
              "    .dataframe tbody tr th {\n",
              "        vertical-align: top;\n",
              "    }\n",
              "\n",
              "    .dataframe thead th {\n",
              "        text-align: right;\n",
              "    }\n",
              "</style>\n",
              "<table border=\"1\" class=\"dataframe\">\n",
              "  <thead>\n",
              "    <tr style=\"text-align: right;\">\n",
              "      <th></th>\n",
              "      <th>Body ID</th>\n",
              "      <th>articleBody</th>\n",
              "      <th>Headline</th>\n",
              "      <th>Stance</th>\n",
              "    </tr>\n",
              "  </thead>\n",
              "  <tbody>\n",
              "    <tr>\n",
              "      <th>49967</th>\n",
              "      <td>2532</td>\n",
              "      <td>ANN ARBOR, Mich. – A pizza delivery man in Mic...</td>\n",
              "      <td>Pizza delivery man gets tipped more than $2,00...</td>\n",
              "      <td>disagree</td>\n",
              "    </tr>\n",
              "    <tr>\n",
              "      <th>49968</th>\n",
              "      <td>2532</td>\n",
              "      <td>ANN ARBOR, Mich. – A pizza delivery man in Mic...</td>\n",
              "      <td>Pizza delivery man gets $2,000 tip</td>\n",
              "      <td>unrelated</td>\n",
              "    </tr>\n",
              "    <tr>\n",
              "      <th>49969</th>\n",
              "      <td>2532</td>\n",
              "      <td>ANN ARBOR, Mich. – A pizza delivery man in Mic...</td>\n",
              "      <td>Luckiest Pizza Delivery Guy Ever Gets $2,000 Tip</td>\n",
              "      <td>discuss</td>\n",
              "    </tr>\n",
              "    <tr>\n",
              "      <th>49970</th>\n",
              "      <td>2532</td>\n",
              "      <td>ANN ARBOR, Mich. – A pizza delivery man in Mic...</td>\n",
              "      <td>Ann Arbor pizza delivery driver surprised with...</td>\n",
              "      <td>disagree</td>\n",
              "    </tr>\n",
              "    <tr>\n",
              "      <th>49971</th>\n",
              "      <td>2532</td>\n",
              "      <td>ANN ARBOR, Mich. – A pizza delivery man in Mic...</td>\n",
              "      <td>Ann Arbor pizza delivery driver surprised with...</td>\n",
              "      <td>agree</td>\n",
              "    </tr>\n",
              "  </tbody>\n",
              "</table>\n",
              "</div>"
            ],
            "text/plain": [
              "       Body ID  ...     Stance\n",
              "49967     2532  ...   disagree\n",
              "49968     2532  ...  unrelated\n",
              "49969     2532  ...    discuss\n",
              "49970     2532  ...   disagree\n",
              "49971     2532  ...      agree\n",
              "\n",
              "[5 rows x 4 columns]"
            ]
          },
          "metadata": {
            "tags": []
          },
          "execution_count": 38
        }
      ]
    },
    {
      "cell_type": "markdown",
      "metadata": {
        "id": "BC70uiU2jk7Q",
        "colab_type": "text"
      },
      "source": [
        ""
      ]
    },
    {
      "cell_type": "code",
      "metadata": {
        "id": "jMw8zv30U0wg",
        "colab_type": "code",
        "colab": {}
      },
      "source": [
        "data = []\n",
        "data = train_df['Stance']"
      ],
      "execution_count": 0,
      "outputs": []
    },
    {
      "cell_type": "code",
      "metadata": {
        "id": "JLi4uURuYW7s",
        "colab_type": "code",
        "outputId": "07fbd594-4fab-4f80-bd14-46cc7d9b5439",
        "colab": {
          "base_uri": "https://localhost:8080/",
          "height": 117
        }
      },
      "source": [
        "data.head()"
      ],
      "execution_count": 40,
      "outputs": [
        {
          "output_type": "execute_result",
          "data": {
            "text/plain": [
              "0      discuss\n",
              "1     disagree\n",
              "2        agree\n",
              "3    unrelated\n",
              "4        agree\n",
              "Name: Stance, dtype: object"
            ]
          },
          "metadata": {
            "tags": []
          },
          "execution_count": 40
        }
      ]
    },
    {
      "cell_type": "code",
      "metadata": {
        "id": "hLShcUS8jfiF",
        "colab_type": "code",
        "outputId": "77779c44-8022-4250-9279-0f1cdea157ed",
        "colab": {
          "base_uri": "https://localhost:8080/",
          "height": 421
        }
      },
      "source": [
        "import matplotlib.pyplot as plt\n",
        "import matplotlib.ticker as mtick\n",
        "import pandas as pd\n",
        "import seaborn as sns\n",
        "\n",
        "pkmn_type_colors = ['#78C850',  # Grass\n",
        "                    '#F08030',  # Fire\n",
        "                    '#6890F0',  # Water\n",
        "                    '#A8B820',  # Bug\n",
        "                    '#A8A878',  # Normal\n",
        "                    '#A040A0',  # Poison\n",
        "                    '#F8D030',  # Electric\n",
        "                    '#E0C068',  # Ground\n",
        "                    '#EE99AC',  # Fairy\n",
        "                    '#C03028',  # Fighting\n",
        "                    '#F85888',  # Psychic\n",
        "                    '#B8A038',  # Rock\n",
        "                    '#705898',  # Ghost\n",
        "                    '#98D8D8',  # Ice\n",
        "                    '#7038F8',  # Dragon\n",
        "                   ]\n",
        "fmt = '{x:,.0f}'\n",
        "plt.figure(figsize=(12.8,6))\n",
        "ax = data.value_counts().plot(kind='bar', color=pkmn_type_colors,rot=0)\n",
        "ax.yaxis.set_major_formatter(mtick.StrMethodFormatter(fmt))\n",
        "for p in ax.patches: \n",
        "  ax.annotate(np.round(p.get_height(),decimals=2), \n",
        "              (p.get_x()+p.get_width()/2., p.get_height()), \n",
        "              ha='center', va='center', xytext=(0, 10), textcoords='offset points')\n",
        "  \n",
        "plt.xlabel(\"Stance\", labelpad=14)\n",
        "plt.ylabel(\"Articles\", labelpad=14)\n",
        "plt.title(\"Count Articles by Stance\", y=1.02);\n"
      ],
      "execution_count": 41,
      "outputs": [
        {
          "output_type": "display_data",
          "data": {
            "image/png": "[encoded data removed]",
            "text/plain": [
              "<Figure size 921.6x432 with 1 Axes>"
            ]
          },
          "metadata": {
            "tags": [],
            "needs_background": "light"
          }
        }
      ]
    },
    {
      "cell_type": "markdown",
      "metadata": {
        "id": "amMiXLw2kYtz",
        "colab_type": "text"
      },
      "source": [
        ""
      ]
    },
    {
      "cell_type": "code",
      "metadata": {
        "id": "h_esAvwjJfAJ",
        "colab_type": "code",
        "outputId": "cb4aac68-d438-42e5-88db-5f40b06a84a3",
        "colab": {
          "base_uri": "https://localhost:8080/",
          "height": 117
        }
      },
      "source": [
        "train_df['id'] = 1\n",
        "data_2 = train_df.groupby('Stance').count()['id'].reset_index(level='Stance')\n",
        "TotalArticles = data_2['id'].sum()\n",
        "print(\"Total Articles: \"+ str(TotalArticles))\n",
        "data_2['Percent of Total'] = data_2['id']*100 / TotalArticles\n",
        "print(data_2)"
      ],
      "execution_count": 42,
      "outputs": [
        {
          "output_type": "stream",
          "text": [
            "Total Articles: 49972\n",
            "      Stance     id  Percent of Total\n",
            "0      agree  12451         24.915953\n",
            "1   disagree  12513         25.040022\n",
            "2    discuss  12527         25.068038\n",
            "3  unrelated  12481         24.975987\n"
          ],
          "name": "stdout"
        }
      ]
    },
    {
      "cell_type": "code",
      "metadata": {
        "id": "ugo21MFHg-Mt",
        "colab_type": "code",
        "outputId": "302cbdb8-051c-4fc0-f981-0ff1b1afdcd3",
        "colab": {
          "base_uri": "https://localhost:8080/",
          "height": 421
        }
      },
      "source": [
        "plt.figure(figsize=(18.6,6))\n",
        "labels = data_2['Stance']\n",
        "ax= data_2['Percent of Total'].plot(kind='bar', color=pkmn_type_colors,rot=0)\n",
        "ax.yaxis.set_major_formatter(mtick.PercentFormatter())\n",
        "for p in ax.patches: \n",
        "  ax.annotate(np.round(p.get_height(),decimals=2), \n",
        "              (p.get_x()+p.get_width()/2., p.get_height()), \n",
        "              ha='center', va='center', xytext=(0, 10), \n",
        "              textcoords='offset points')\n",
        "plt.xlabel(\"Stance\", labelpad=14)\n",
        "plt.ylabel(\"% of Articles\", labelpad=14)\n",
        "plt.title(\"% of Articles in each Stance\", y=1.02);"
      ],
      "execution_count": 43,
      "outputs": [
        {
          "output_type": "display_data",
          "data": {
            "image/png": "[encoded data removed]",
            "text/plain": [
              "<Figure size 1339.2x432 with 1 Axes>"
            ]
          },
          "metadata": {
            "tags": [],
            "needs_background": "light"
          }
        }
      ]
    },
    {
      "cell_type": "markdown",
      "metadata": {
        "id": "IWs1TlCIu2b4",
        "colab_type": "text"
      },
      "source": [
        "Checking Article Body lenght to review is there is not a big diffence. This is important as during feature creation process may take total number of words"
      ]
    },
    {
      "cell_type": "code",
      "metadata": {
        "id": "FsLz7Snyvas2",
        "colab_type": "code",
        "colab": {}
      },
      "source": [
        "train_df['Article_lenght'] = train_df['articleBody'].str.len()"
      ],
      "execution_count": 0,
      "outputs": []
    },
    {
      "cell_type": "code",
      "metadata": {
        "id": "0tjmtuOgv6KJ",
        "colab_type": "code",
        "outputId": "bb260881-cf7a-4f36-dc80-0a714d118400",
        "colab": {
          "base_uri": "https://localhost:8080/",
          "height": 405
        }
      },
      "source": [
        "plt.figure(figsize=(12.8,6))\n",
        "sns.distplot(train_df['Article_lenght']).set_title('News length distribution');"
      ],
      "execution_count": 45,
      "outputs": [
        {
          "output_type": "display_data",
          "data": {
            "image/png": "[encoded data removed]",
            "text/plain": [
              "<Figure size 921.6x432 with 1 Axes>"
            ]
          },
          "metadata": {
            "tags": [],
            "needs_background": "light"
          }
        }
      ]
    },
    {
      "cell_type": "code",
      "metadata": {
        "id": "CW9GoovwwDUK",
        "colab_type": "code",
        "outputId": "becdedc3-d810-4cc7-bf46-653d62bb7629",
        "colab": {
          "base_uri": "https://localhost:8080/",
          "height": 167
        }
      },
      "source": [
        "train_df['Article_lenght'].describe()"
      ],
      "execution_count": 46,
      "outputs": [
        {
          "output_type": "execute_result",
          "data": {
            "text/plain": [
              "count    49972.000000\n",
              "mean      2207.547266\n",
              "std       1676.838550\n",
              "min         38.000000\n",
              "25%       1175.000000\n",
              "50%       1824.000000\n",
              "75%       2765.000000\n",
              "max      27579.000000\n",
              "Name: Article_lenght, dtype: float64"
            ]
          },
          "metadata": {
            "tags": []
          },
          "execution_count": 46
        }
      ]
    },
    {
      "cell_type": "markdown",
      "metadata": {
        "id": "4Ch-SWK5wcP8",
        "colab_type": "text"
      },
      "source": [
        "Now we will focus on 95% percentile to better appreciate examples' behaviour for lenght"
      ]
    },
    {
      "cell_type": "code",
      "metadata": {
        "id": "238sLCvowbIU",
        "colab_type": "code",
        "outputId": "10f3654b-e800-4ff3-d5c5-f6b5074de2f6",
        "colab": {
          "base_uri": "https://localhost:8080/",
          "height": 33
        }
      },
      "source": [
        "quantile_95 = train_df['Article_lenght'].quantile(0.95)\n",
        "train_df_95 = train_df[train_df['Article_lenght'] < quantile_95]\n",
        "print(\"95% percentile Article Lenght threshold: \" + str(quantile_95))"
      ],
      "execution_count": 47,
      "outputs": [
        {
          "output_type": "stream",
          "text": [
            "95% percentile Article Lenght threshold: 5501.0\n"
          ],
          "name": "stdout"
        }
      ]
    },
    {
      "cell_type": "code",
      "metadata": {
        "id": "m-Y1XjCjw48J",
        "colab_type": "code",
        "outputId": "26fbf6da-d311-49b8-fb93-7dc40d107f22",
        "colab": {
          "base_uri": "https://localhost:8080/",
          "height": 405
        }
      },
      "source": [
        "plt.figure(figsize=(12.8,6))\n",
        "sns.distplot(train_df_95['Article_lenght']).set_title('Article_lenght distribution');"
      ],
      "execution_count": 48,
      "outputs": [
        {
          "output_type": "display_data",
          "data": {
            "image/png": "[encoded data removed]",
            "text/plain": [
              "<Figure size 921.6x432 with 1 Axes>"
            ]
          },
          "metadata": {
            "tags": [],
            "needs_background": "light"
          }
        }
      ]
    },
    {
      "cell_type": "markdown",
      "metadata": {
        "id": "Wp4aib9GxUF3",
        "colab_type": "text"
      },
      "source": [
        "Next we will like to know how many articles are over 95% percentail in thier character count for article body. We do this just to understand data before feature engineering"
      ]
    },
    {
      "cell_type": "code",
      "metadata": {
        "id": "F0bIXJ89yDaJ",
        "colab_type": "code",
        "outputId": "b61da313-56fb-431a-bfe3-a00884e920b9",
        "colab": {
          "base_uri": "https://localhost:8080/",
          "height": 33
        }
      },
      "source": [
        "train_df__more_quantile95 = train_df[train_df['Article_lenght'] > quantile_95]\n",
        "print(\"Total Articles are above 95% quantile word count threshold: \" + str(len(train_df__more_quantile95)))"
      ],
      "execution_count": 49,
      "outputs": [
        {
          "output_type": "stream",
          "text": [
            "Total Articles are above 95% quantile word count threshold: 2407\n"
          ],
          "name": "stdout"
        }
      ]
    },
    {
      "cell_type": "markdown",
      "metadata": {
        "id": "H3VU7Zy_7qUY",
        "colab_type": "text"
      },
      "source": [
        "Let's use a BOX PLOT chart vizualitation to understand length distribution in every Stance class"
      ]
    },
    {
      "cell_type": "code",
      "metadata": {
        "id": "gpBabQ2L7-5E",
        "colab_type": "code",
        "outputId": "f409aec3-805e-47c1-8c2a-31e1e7c230ae",
        "colab": {
          "base_uri": "https://localhost:8080/",
          "height": 388
        }
      },
      "source": [
        "plt.figure(figsize=(12.8,6))\n",
        "sns.boxplot(data=train_df, x='Stance', y='Article_lenght', width=.5);"
      ],
      "execution_count": 50,
      "outputs": [
        {
          "output_type": "display_data",
          "data": {
            "image/png": "[encoded data removed]",
            "text/plain": [
              "<Figure size 921.6x432 with 1 Axes>"
            ]
          },
          "metadata": {
            "tags": [],
            "needs_background": "light"
          }
        }
      ]
    },
    {
      "cell_type": "markdown",
      "metadata": {
        "id": "PGUSDd3Y8R4G",
        "colab_type": "text"
      },
      "source": [
        "We will use the same approach as histogram, and focus on 95% percentile using the train_df_95 dataframe "
      ]
    },
    {
      "cell_type": "code",
      "metadata": {
        "id": "1tp4iU2f8p-4",
        "colab_type": "code",
        "outputId": "8a6512c9-d6e6-4e00-c324-733d9c375700",
        "colab": {
          "base_uri": "https://localhost:8080/",
          "height": 388
        }
      },
      "source": [
        "plt.figure(figsize=(12.8,6))\n",
        "sns.boxplot(data=train_df_95, x='Stance', y='Article_lenght', width=.5);"
      ],
      "execution_count": 51,
      "outputs": [
        {
          "output_type": "display_data",
          "data": {
            "image/png": "[encoded data removed]",
            "text/plain": [
              "<Figure size 921.6x432 with 1 Axes>"
            ]
          },
          "metadata": {
            "tags": [],
            "needs_background": "light"
          }
        }
      ]
    },
    {
      "cell_type": "code",
      "metadata": {
        "id": "5AFpgD44WkH_",
        "colab_type": "code",
        "colab": {
          "base_uri": "https://localhost:8080/",
          "height": 197
        },
        "outputId": "e77ab696-cc36-49af-b829-f434585aa35f"
      },
      "source": [
        "train_df.head()"
      ],
      "execution_count": 52,
      "outputs": [
        {
          "output_type": "execute_result",
          "data": {
            "text/html": [
              "<div>\n",
              "<style scoped>\n",
              "    .dataframe tbody tr th:only-of-type {\n",
              "        vertical-align: middle;\n",
              "    }\n",
              "\n",
              "    .dataframe tbody tr th {\n",
              "        vertical-align: top;\n",
              "    }\n",
              "\n",
              "    .dataframe thead th {\n",
              "        text-align: right;\n",
              "    }\n",
              "</style>\n",
              "<table border=\"1\" class=\"dataframe\">\n",
              "  <thead>\n",
              "    <tr style=\"text-align: right;\">\n",
              "      <th></th>\n",
              "      <th>Body ID</th>\n",
              "      <th>articleBody</th>\n",
              "      <th>Headline</th>\n",
              "      <th>Stance</th>\n",
              "      <th>id</th>\n",
              "      <th>Article_lenght</th>\n",
              "    </tr>\n",
              "  </thead>\n",
              "  <tbody>\n",
              "    <tr>\n",
              "      <th>0</th>\n",
              "      <td>0</td>\n",
              "      <td>A small meteorite crashed into a wooded area i...</td>\n",
              "      <td>Soldier shot, Parliament locked down after gun...</td>\n",
              "      <td>discuss</td>\n",
              "      <td>1</td>\n",
              "      <td>1902</td>\n",
              "    </tr>\n",
              "    <tr>\n",
              "      <th>1</th>\n",
              "      <td>0</td>\n",
              "      <td>A small meteorite crashed into a wooded area i...</td>\n",
              "      <td>Tourist dubbed ‘Spider Man’ after spider burro...</td>\n",
              "      <td>disagree</td>\n",
              "      <td>1</td>\n",
              "      <td>1902</td>\n",
              "    </tr>\n",
              "    <tr>\n",
              "      <th>2</th>\n",
              "      <td>0</td>\n",
              "      <td>A small meteorite crashed into a wooded area i...</td>\n",
              "      <td>Luke Somers 'killed in failed rescue attempt i...</td>\n",
              "      <td>agree</td>\n",
              "      <td>1</td>\n",
              "      <td>1902</td>\n",
              "    </tr>\n",
              "    <tr>\n",
              "      <th>3</th>\n",
              "      <td>0</td>\n",
              "      <td>A small meteorite crashed into a wooded area i...</td>\n",
              "      <td>BREAKING: Soldier shot at War Memorial in Ottawa</td>\n",
              "      <td>unrelated</td>\n",
              "      <td>1</td>\n",
              "      <td>1902</td>\n",
              "    </tr>\n",
              "    <tr>\n",
              "      <th>4</th>\n",
              "      <td>0</td>\n",
              "      <td>A small meteorite crashed into a wooded area i...</td>\n",
              "      <td>Giant 8ft 9in catfish weighing 19 stone caught...</td>\n",
              "      <td>agree</td>\n",
              "      <td>1</td>\n",
              "      <td>1902</td>\n",
              "    </tr>\n",
              "  </tbody>\n",
              "</table>\n",
              "</div>"
            ],
            "text/plain": [
              "   Body ID  ... Article_lenght\n",
              "0        0  ...           1902\n",
              "1        0  ...           1902\n",
              "2        0  ...           1902\n",
              "3        0  ...           1902\n",
              "4        0  ...           1902\n",
              "\n",
              "[5 rows x 6 columns]"
            ]
          },
          "metadata": {
            "tags": []
          },
          "execution_count": 52
        }
      ]
    },
    {
      "cell_type": "markdown",
      "metadata": {
        "id": "-KyJEVCiNqsu",
        "colab_type": "text"
      },
      "source": [
        "To finish our data analysis we will send the final train dataframe to a new csv file in out github repository"
      ]
    },
    {
      "cell_type": "code",
      "metadata": {
        "id": "7Sq4WALxN4WG",
        "colab_type": "code",
        "colab": {}
      },
      "source": [
        "train_df.to_csv(\"/content/NewsTrain.csv\")"
      ],
      "execution_count": 0,
      "outputs": []
    }
  ]
}